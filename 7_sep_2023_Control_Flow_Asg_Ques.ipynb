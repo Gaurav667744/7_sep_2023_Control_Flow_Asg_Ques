{
 "cells": [
  {
   "cell_type": "markdown",
   "id": "9003adf7-3990-4bad-867b-18d304efa72f",
   "metadata": {},
   "source": [
    "### Basic If-Else Statements:"
   ]
  },
  {
   "cell_type": "markdown",
   "id": "4646e022-0a32-4927-873f-613852a14b60",
   "metadata": {},
   "source": [
    "### Ques_1. Write a Python program to check if a given number is positive or negative."
   ]
  },
  {
   "cell_type": "code",
   "execution_count": 17,
   "id": "752892c2-01ff-429c-8af2-53f49fe9d9c1",
   "metadata": {},
   "outputs": [
    {
     "name": "stdin",
     "output_type": "stream",
     "text": [
      "enter the number -2\n"
     ]
    },
    {
     "name": "stdout",
     "output_type": "stream",
     "text": [
      "number is negative\n"
     ]
    }
   ],
   "source": [
    "number = int(input(\"enter the number\"))\n",
    "if number < 0 :\n",
    "    print(\"number is negative\")\n",
    "else :\n",
    "    print(\"number is positive\")"
   ]
  },
  {
   "cell_type": "markdown",
   "id": "02803a3c-45e4-4ff0-ab24-7dd12023b5e2",
   "metadata": {},
   "source": [
    "### Ques_2. Create a program that determines if a person is eligible to vote based on their age."
   ]
  },
  {
   "cell_type": "code",
   "execution_count": 20,
   "id": "1bcba878-a14c-4090-b228-e9c875646b91",
   "metadata": {},
   "outputs": [
    {
     "name": "stdin",
     "output_type": "stream",
     "text": [
      "enter the number 18\n"
     ]
    },
    {
     "name": "stdout",
     "output_type": "stream",
     "text": [
      "person is eligible\n"
     ]
    }
   ],
   "source": [
    "num_of_age = int(input(\"enter the number\"))\n",
    "if num_of_age >= 18 :\n",
    "    print(\"person is eligible\")\n",
    "else :\n",
    "    print(\"person is not eligible\")"
   ]
  },
  {
   "cell_type": "markdown",
   "id": "3b756e67-81e7-484a-9568-cd873fb9af0d",
   "metadata": {},
   "source": [
    "### Ques_3. Develop a program to find the maximum of two numbers using if-else statements."
   ]
  },
  {
   "cell_type": "code",
   "execution_count": 30,
   "id": "dfff15c5-1b06-4b9c-96b5-9a950731d111",
   "metadata": {},
   "outputs": [
    {
     "name": "stdin",
     "output_type": "stream",
     "text": [
      "enter the first number 12\n",
      "enter the second number 32\n"
     ]
    },
    {
     "name": "stdout",
     "output_type": "stream",
     "text": [
      "number second is maximum number\n"
     ]
    }
   ],
   "source": [
    "num_first = int(input(\"enter the first number\"))\n",
    "num_second = int(input(\"enter the second number\"))\n",
    "if num_first >= num_second :\n",
    "    print(\"number first is maximum number\")\n",
    "else :\n",
    "    print(\"number second is maximum number\")"
   ]
  },
  {
   "cell_type": "markdown",
   "id": "c7969b30-4f77-4c5e-bc92-75bfb8003fe2",
   "metadata": {},
   "source": [
    "### Ques_4. Write a Python script to classify a given year as a leap year or not."
   ]
  },
  {
   "cell_type": "code",
   "execution_count": 10,
   "id": "6e4edd5c-1ebe-426b-8013-d107c0cd6d4f",
   "metadata": {},
   "outputs": [
    {
     "name": "stdin",
     "output_type": "stream",
     "text": [
      "enter the year 2008\n"
     ]
    },
    {
     "name": "stdout",
     "output_type": "stream",
     "text": [
      "yes\n"
     ]
    }
   ],
   "source": [
    "year =  int(input(\"enter the year\"))\n",
    "if year % 4 == 0 :\n",
    "    print(\"yes\")\n",
    "else :\n",
    "    print(\"not\")"
   ]
  },
  {
   "cell_type": "markdown",
   "id": "2c351bda-1617-468c-a48b-6895517cb61e",
   "metadata": {},
   "source": [
    "### Ques_5. Create a program that checks whether a character is a vowel or a consonant."
   ]
  },
  {
   "cell_type": "code",
   "execution_count": 39,
   "id": "af8175fb-f1cf-4743-892d-ad91a1e45f7f",
   "metadata": {},
   "outputs": [
    {
     "name": "stdin",
     "output_type": "stream",
     "text": [
      "enter the number i\n"
     ]
    },
    {
     "name": "stdout",
     "output_type": "stream",
     "text": [
      "this is vowel\n"
     ]
    }
   ],
   "source": [
    "char = input(\"enter the number\")\n",
    "vowel = 'a','e','u','i','o'\n",
    "if char in vowel :\n",
    "    print(\"this is vowel\")\n",
    "else:\n",
    "    print(\"this is consonent\")"
   ]
  },
  {
   "cell_type": "markdown",
   "id": "0c1f5277-2af9-446f-846d-aaac1995f898",
   "metadata": {},
   "source": [
    "### Ques_6. Implement a program to determine whether a given number is even or odd."
   ]
  },
  {
   "cell_type": "code",
   "execution_count": 41,
   "id": "ebc4e3e6-0e69-4c96-b2b2-75093c87d532",
   "metadata": {},
   "outputs": [
    {
     "name": "stdin",
     "output_type": "stream",
     "text": [
      "enter the number 9\n"
     ]
    },
    {
     "name": "stdout",
     "output_type": "stream",
     "text": [
      "number is odd\n"
     ]
    }
   ],
   "source": [
    "number = int(input(\"enter the number\"))\n",
    "if number % 2 == 0 :\n",
    "    print(\"number is even\")\n",
    "else :\n",
    "    print(\"number is odd\")"
   ]
  },
  {
   "cell_type": "markdown",
   "id": "9671bc47-c424-4535-837d-dc235345a231",
   "metadata": {},
   "source": [
    "### Ques_7. Write a Python function to calculate the absolute value of a number without using the `abs()` function."
   ]
  },
  {
   "cell_type": "code",
   "execution_count": 54,
   "id": "47cec8bd-34cd-4075-8986-afc60721402b",
   "metadata": {},
   "outputs": [
    {
     "name": "stdin",
     "output_type": "stream",
     "text": [
      "enter the number -25\n"
     ]
    },
    {
     "name": "stdout",
     "output_type": "stream",
     "text": [
      "abssolute value of ! -25 ! is 25\n"
     ]
    }
   ],
   "source": [
    "number = int(input(\"enter the number\"))\n",
    "if number < 0 :\n",
    "    value = -number\n",
    "else :\n",
    "    value = number\n",
    "print(\"abssolute value of\",\"!\",number,\"!\", \"is\", value)\n"
   ]
  },
  {
   "cell_type": "markdown",
   "id": "0b4dac86-5f7a-4ace-b581-fac52f06f703",
   "metadata": {},
   "source": [
    "### Ques_8. Develop a program that determines the largest of three given numbers using if-else statements."
   ]
  },
  {
   "cell_type": "code",
   "execution_count": 50,
   "id": "fc3bff86-46b0-4e7a-8f32-506b059417f0",
   "metadata": {},
   "outputs": [
    {
     "name": "stdin",
     "output_type": "stream",
     "text": [
      "enter the first number 2\n",
      "enter the second number 3\n",
      "enter the third number 5\n"
     ]
    },
    {
     "name": "stdout",
     "output_type": "stream",
     "text": [
      "third number is largest number\n"
     ]
    }
   ],
   "source": [
    "num_1 = int(input(\"enter the first number\"))\n",
    "num_2 = int(input(\"enter the second number\"))\n",
    "num_3 = int(input(\"enter the third number\"))\n",
    "if num_1 > num_2 :\n",
    "    if num_1 > num_3 :\n",
    "        print(\"first number is largest number\")\n",
    "if num_2 > num_1 :\n",
    "    if num_2 > num_3 :\n",
    "        print(\"second number is largest number\")\n",
    "    else :\n",
    "        print(\"third number is largest number\")"
   ]
  },
  {
   "cell_type": "markdown",
   "id": "38b8e4cc-3706-4b2d-b981-c9945aee3e7e",
   "metadata": {},
   "source": [
    "### Ques_9. Create a program that checks if a given string is a palindrome."
   ]
  },
  {
   "cell_type": "code",
   "execution_count": 59,
   "id": "08d41fbf-da34-4960-a3f3-bffbb64e9ce6",
   "metadata": {},
   "outputs": [
    {
     "name": "stdin",
     "output_type": "stream",
     "text": [
      "enter the string radar\n"
     ]
    },
    {
     "name": "stdout",
     "output_type": "stream",
     "text": [
      "it is palindrome\n"
     ]
    }
   ],
   "source": [
    "string = input(\"enter the string\")\n",
    "if string == string[::-1] :\n",
    "    print(\"it is palindrome\")\n",
    "else :\n",
    "    print(\"it is not palindrome\")"
   ]
  },
  {
   "cell_type": "markdown",
   "id": "1652383e-4d47-4d25-895e-2385187653fd",
   "metadata": {},
   "source": [
    "### Ques_10. Write a Python program to calculate the grade based on a student's score."
   ]
  },
  {
   "cell_type": "code",
   "execution_count": 68,
   "id": "4a33426f-ff78-4d39-844e-e62bf6602766",
   "metadata": {},
   "outputs": [
    {
     "name": "stdin",
     "output_type": "stream",
     "text": [
      "enter the mark 45\n"
     ]
    },
    {
     "name": "stdout",
     "output_type": "stream",
     "text": [
      "'C'grade\n"
     ]
    }
   ],
   "source": [
    "mark = int(input(\"enter the mark\"))\n",
    "if mark >= 80 :\n",
    "    print(\"'A'grade\")\n",
    "elif mark >= 60 and mark < 80 :\n",
    "    print(\"'B'grade\")\n",
    "elif mark >= 35 and mark < 60 :\n",
    "    print(\"'C'grade\")\n",
    "else :\n",
    "    print('FAIL')"
   ]
  },
  {
   "cell_type": "markdown",
   "id": "91c395c9-06f2-4277-b363-00ecc61b03ac",
   "metadata": {},
   "source": [
    "### Nested If-Else Statements:"
   ]
  },
  {
   "cell_type": "markdown",
   "id": "4b9d4ce7-9810-46ae-b470-fcaee9b599fa",
   "metadata": {},
   "source": [
    "### Ques_11. Write a program to find the largest among three numbers using nested if-else statements."
   ]
  },
  {
   "cell_type": "code",
   "execution_count": 13,
   "id": "d6e7a566-8ebb-4df8-a344-39cb3b809fd5",
   "metadata": {},
   "outputs": [
    {
     "name": "stdin",
     "output_type": "stream",
     "text": [
      "enter the first number 20\n",
      "enter the second number 3010\n",
      "enter the third number 10\n"
     ]
    },
    {
     "name": "stdout",
     "output_type": "stream",
     "text": [
      "secomd number is largest\n"
     ]
    }
   ],
   "source": [
    "num1 = int(input(\"enter the first number\"))\n",
    "num2 = int(input(\"enter the second number\"))\n",
    "num3 = int(input(\"enter the third number\"))\n",
    "if num1 > num2 :\n",
    "    if num1 > num3 :\n",
    "        print(\"first number is largest.\")\n",
    "elif num2 > num1 :\n",
    "    if num2 > num3 :\n",
    "        print(\"secomd number is largest\")\n",
    "    else :\n",
    "            print(\"third number is largest\")\n",
    "    \n",
    "        \n",
    "        "
   ]
  },
  {
   "cell_type": "markdown",
   "id": "69493e55-1679-46dc-b42c-fc7637371d7e",
   "metadata": {},
   "source": [
    "### Ques_12. Implement a program to determine if a triangle is equilateral, isosceles, or scalene."
   ]
  },
  {
   "cell_type": "code",
   "execution_count": 20,
   "id": "4e25d164-3de8-42f1-b02a-f45387bdc8f1",
   "metadata": {},
   "outputs": [
    {
     "name": "stdin",
     "output_type": "stream",
     "text": [
      "enter the first number 10\n",
      "enter the second number 2020\n",
      "enter the third number 10\n"
     ]
    },
    {
     "name": "stdout",
     "output_type": "stream",
     "text": [
      "isosceles triangle\n"
     ]
    }
   ],
   "source": [
    "num_tri1 = int(input(\"enter the first number\"))\n",
    "num_tri2 = int(input(\"enter the second number\"))\n",
    "num_tri3 = int(input(\"enter the third number\"))\n",
    "if num_tri1 == num_tri2 == num_tri3 :\n",
    "    print(\"equilateral triangle\")\n",
    "elif num_tri1 == num_tri2 or num_tri1 == num_tri3 or num_tri2 == num_tri3 :\n",
    "    print(\"isosceles triangle\")\n",
    "elif num_tri1 != num_tri2 and num_tri1 != num_tri3 and num_tri2 != num_tri3 :\n",
    "    print(\"scalena triangle\")"
   ]
  },
  {
   "cell_type": "markdown",
   "id": "a0835bf0-13cb-4603-980f-82c4d6fc2b34",
   "metadata": {},
   "source": [
    "### Ques_13. Develop a program that checks if a year is a leap year and also if it is a century year."
   ]
  },
  {
   "cell_type": "code",
   "execution_count": 11,
   "id": "ef4b0aaf-f9c8-49a7-b4df-d4a914d05825",
   "metadata": {},
   "outputs": [
    {
     "name": "stdin",
     "output_type": "stream",
     "text": [
      "enter the year 2008\n"
     ]
    },
    {
     "name": "stdout",
     "output_type": "stream",
     "text": [
      "this is leap year\n"
     ]
    }
   ],
   "source": [
    "year =  int(input(\"enter the year\"))\n",
    "if year % 4 == 0 :\n",
    "    print(\"this is leap year\")\n",
    "else :\n",
    "    print(\"this is century year\")"
   ]
  },
  {
   "cell_type": "markdown",
   "id": "9b318ac2-24ac-4a11-a5a4-a0d2010ef999",
   "metadata": {},
   "source": [
    "### Ques_14. Write a Python script to determine if a number is positive, negative, or zero."
   ]
  },
  {
   "cell_type": "code",
   "execution_count": 16,
   "id": "8aca10b9-ea22-4a04-b768-d07271e483f8",
   "metadata": {},
   "outputs": [
    {
     "name": "stdin",
     "output_type": "stream",
     "text": [
      "enter the number -9\n"
     ]
    },
    {
     "name": "stdout",
     "output_type": "stream",
     "text": [
      "negative number\n"
     ]
    }
   ],
   "source": [
    "number = int(input(\"enter the number\"))\n",
    "if number > 0 :\n",
    "    print(\"positive number\")\n",
    "elif number < 0 :\n",
    "    print(\"negative number\")\n",
    "else :\n",
    "    print(\"zero number\")"
   ]
  },
  {
   "cell_type": "markdown",
   "id": "509f41a7-45be-42d4-bea0-a98175aff3fc",
   "metadata": {},
   "source": [
    "### Ques_15. Create a program to check if a person is a teenager (between 13 and 19 years old)."
   ]
  },
  {
   "cell_type": "code",
   "execution_count": 18,
   "id": "7c2c9e8c-bb38-4b27-a4a8-77b8e58afe7e",
   "metadata": {},
   "outputs": [
    {
     "name": "stdin",
     "output_type": "stream",
     "text": [
      "enter the age 15\n"
     ]
    },
    {
     "name": "stdout",
     "output_type": "stream",
     "text": [
      "person is teenager\n"
     ]
    }
   ],
   "source": [
    "age = int(input(\"enter the age\"))\n",
    "if age >= 13 and age <= 19 :\n",
    "    print(\"person is teenager\")\n",
    "else :\n",
    "    print(\"person is not teeneger\")"
   ]
  },
  {
   "cell_type": "markdown",
   "id": "79800e62-7ab4-4619-9c9e-e1928e29b311",
   "metadata": {},
   "source": [
    "### Ques16. Develop a program that determines the type of angle based on its measure (acute, obtuse, or right)."
   ]
  },
  {
   "cell_type": "code",
   "execution_count": 34,
   "id": "79061e76-9fbe-4915-a4c2-471b3c84693f",
   "metadata": {},
   "outputs": [
    {
     "name": "stdin",
     "output_type": "stream",
     "text": [
      "enter the first number 120\n",
      "enter the second number 30\n",
      "enter the third number 30\n"
     ]
    },
    {
     "name": "stdout",
     "output_type": "stream",
     "text": [
      "acute angle\n"
     ]
    }
   ],
   "source": [
    "tri1 = int(input(\"enter the first number\"))\n",
    "tri2 = int(input(\"enter the second number\"))\n",
    "tri3 = int(input(\"enter the third number\"))\n",
    "total = 180\n",
    "if tri1 + tri2 + tri3 == total : \n",
    "    if tri1 == 90 or tri2 == 90 or tri3 == 90 :\n",
    "        print(\"right angle\")\n",
    "    if tri1 > 90 or tri2 > 90 or tri3 > 90 :\n",
    "        print(\"acute angle\")\n",
    "    if tri1 < 90 and tri2 < 90 and tri3 < 90 :\n",
    "        print(\"obtuse angle\")\n",
    "else :\n",
    "    print(\"everything angle is wrong\")"
   ]
  },
  {
   "cell_type": "markdown",
   "id": "a74f2ac5-9360-4605-9a82-6ac3fde28c48",
   "metadata": {},
   "source": [
    "### Ques_17. Write a Python program to calculate the roots of a quadratic equation."
   ]
  },
  {
   "cell_type": "code",
   "execution_count": 3,
   "id": "32febfc5-78c8-4e23-8e49-338174b168fb",
   "metadata": {},
   "outputs": [
    {
     "name": "stdin",
     "output_type": "stream",
     "text": [
      "enter the first number a !=0 2\n",
      "enter the second number 3\n",
      "enter the third number 4\n"
     ]
    },
    {
     "name": "stdout",
     "output_type": "stream",
     "text": [
      "the roots are (-0.75-1.1989578808281798j) and (-0.75+1.1989578808281798j)\n"
     ]
    }
   ],
   "source": [
    "import cmath \n",
    "a = int(input(\"enter the first number a !=0\"))\n",
    "b = int(input(\"enter the second number\"))\n",
    "c = int(input(\"enter the third number\"))\n",
    "\n",
    "d = (b**2) - (4*a*c)\n",
    "\n",
    "root1 = (-b - cmath.sqrt(d)) / (2*a)\n",
    "root2 = (-b + cmath.sqrt(d)) / (2*a)\n",
    "\n",
    "print(\"the roots are\", root1 , \"and\", root2)"
   ]
  },
  {
   "cell_type": "markdown",
   "id": "18fa79e7-d0ed-4303-ac90-b534560810e6",
   "metadata": {},
   "source": [
    "### Ques_18. Implement a program to determine the day of the week based on a user-provided number (1 for Monday, 2 for Tuesday, etc.)."
   ]
  },
  {
   "cell_type": "code",
   "execution_count": 9,
   "id": "fc92c2f7-63c8-4da8-a897-ce151a2a4c5e",
   "metadata": {},
   "outputs": [
    {
     "name": "stdin",
     "output_type": "stream",
     "text": [
      "enter the number 7\n"
     ]
    },
    {
     "name": "stdout",
     "output_type": "stream",
     "text": [
      "today is sunday\n"
     ]
    }
   ],
   "source": [
    "num = int(input(\"enter the number\"))\n",
    "if num == 1 :\n",
    "    print(\"today is monday\")\n",
    "elif num == 2 :\n",
    "    print(\"today is tuesday\")\n",
    "elif num == 3 :\n",
    "    print(\"today is wednesday\")\n",
    "elif num == 4 :\n",
    "    print(\"today is thursday\")\n",
    "elif num == 5 :\n",
    "    print(\"today is friday\")\n",
    "elif num == 6 :\n",
    "    print(\"today is saturday\")\n",
    "elif num == 7 :\n",
    "    print(\"today is sunday\")\n",
    "else :\n",
    "    print(\"today is nothing\")"
   ]
  },
  {
   "cell_type": "markdown",
   "id": "b7f6b11a-66a3-4cda-888e-01142ca2db88",
   "metadata": {},
   "source": [
    "### Ques_19. Create a program that determines if a year is a leap year and also if it is evenly divisible by 400."
   ]
  },
  {
   "cell_type": "code",
   "execution_count": 24,
   "id": "86c18514-832d-495b-8274-94b9210d9fa7",
   "metadata": {},
   "outputs": [
    {
     "name": "stdin",
     "output_type": "stream",
     "text": [
      "enter the year 2016\n"
     ]
    },
    {
     "name": "stdout",
     "output_type": "stream",
     "text": [
      "this is leap year\n"
     ]
    }
   ],
   "source": [
    "year =  int(input(\"enter the year\"))\n",
    "if year % 400 == 0 and year % 100 == 0 :\n",
    "    print(\"this is leap year\")\n",
    "elif year % 4 == 0 and year % 100 != 0 :\n",
    "    print(\"this is leap year\")\n",
    "else :\n",
    "    print(\"this is century year\")"
   ]
  },
  {
   "cell_type": "markdown",
   "id": "5386eb8d-921d-4860-a6ff-9e622d68c8ae",
   "metadata": {},
   "source": [
    "### Ques_20. Develop a program that checks if a given number is prime or not using nested if-else statements."
   ]
  },
  {
   "cell_type": "code",
   "execution_count": 46,
   "id": "6629f834-d6e9-454a-8a57-1ac37062eca0",
   "metadata": {},
   "outputs": [
    {
     "name": "stdin",
     "output_type": "stream",
     "text": [
      "enter the number 5\n"
     ]
    },
    {
     "name": "stdout",
     "output_type": "stream",
     "text": [
      "it is prime number\n"
     ]
    }
   ],
   "source": [
    "num = int(input(\"enter the number\"))\n",
    "if num <= 1:\n",
    "    print(\"it is not prime number\")\n",
    "if num == 1 :\n",
    "    print(\"it is not prime number\")\n",
    "if num > 1 :\n",
    "    for i in range(2,num):\n",
    "        if num % i == 0 :\n",
    "            print(\"it is not prime number\")\n",
    "            break\n",
    "    else :\n",
    "        print(\"it is prime number\")"
   ]
  },
  {
   "cell_type": "markdown",
   "id": "36fc0954-2eeb-4670-b15e-f0d61c44efe4",
   "metadata": {},
   "source": [
    "### Elif Statements:"
   ]
  },
  {
   "cell_type": "markdown",
   "id": "7617f316-e4ad-4d63-986d-228b6de9636e",
   "metadata": {},
   "source": [
    "### Ques_21. Write a Python program to assign grades based on different ranges of scores using elif statements."
   ]
  },
  {
   "cell_type": "code",
   "execution_count": 7,
   "id": "6ed5b5bc-e129-4aba-a03d-c8e87c91121e",
   "metadata": {},
   "outputs": [
    {
     "name": "stdin",
     "output_type": "stream",
     "text": [
      "enter the score 34\n"
     ]
    },
    {
     "name": "stdout",
     "output_type": "stream",
     "text": [
      "FAIL\n"
     ]
    }
   ],
   "source": [
    "score = int(input(\"enter the score\"))\n",
    "if score > 80 and score <= 100 :\n",
    "    print(\"score is A grade\")\n",
    "elif score > 60 and score <= 80 :\n",
    "    print(\"score is B grade\")\n",
    "elif score >= 35 and score <= 60 :\n",
    "    print(\"score id C grade\")\n",
    "else :\n",
    "    print(\"FAIL\")"
   ]
  },
  {
   "cell_type": "markdown",
   "id": "ed597b46-8d4a-4a30-a294-1432230e909c",
   "metadata": {},
   "source": [
    "### Ques_22. Implement a program to determine the type of a triangle based on its angles."
   ]
  },
  {
   "cell_type": "code",
   "execution_count": 10,
   "id": "1d0dc8b0-ee55-4a26-a7e5-15b7641773f8",
   "metadata": {},
   "outputs": [
    {
     "name": "stdin",
     "output_type": "stream",
     "text": [
      "enter the first number 100\n",
      "enter the second number 50\n",
      "enter the third number 30\n"
     ]
    },
    {
     "name": "stdout",
     "output_type": "stream",
     "text": [
      "acute angle\n"
     ]
    }
   ],
   "source": [
    "tri1 = int(input(\"enter the first number\"))\n",
    "tri2 = int(input(\"enter the second number\"))\n",
    "tri3 = int(input(\"enter the third number\"))\n",
    "total = 180\n",
    "if tri1 + tri2 + tri3 == total : \n",
    "    if tri1 == 90 or tri2 == 90 or tri3 == 90 :\n",
    "        print(\"right angle\")\n",
    "    if tri1 > 90 or tri2 > 90 or tri3 > 90 :\n",
    "        print(\"acute angle\")\n",
    "    if tri1 < 90 and tri2 < 90 and tri3 < 90 :\n",
    "        print(\"obtuse angle\")\n",
    "else :\n",
    "    print(\"everything angle is wrong\")"
   ]
  },
  {
   "cell_type": "markdown",
   "id": "fd4c3125-a9d5-4eb8-a65c-7fce01fe8976",
   "metadata": {},
   "source": [
    "### Ques_23. Develop a program to categorize a given person's BMI into underweight, normal, overweight, or obese using elif statements."
   ]
  },
  {
   "cell_type": "code",
   "execution_count": 22,
   "id": "2407bf3c-8edd-4d2e-b956-4f6330683efc",
   "metadata": {},
   "outputs": [
    {
     "name": "stdin",
     "output_type": "stream",
     "text": [
      "enter the weight :- 100\n",
      "enter the height :- 2\n"
     ]
    },
    {
     "name": "stdout",
     "output_type": "stream",
     "text": [
      "overweight\n"
     ]
    }
   ],
   "source": [
    "weight_in_kg = int(input(\"enter the weight :-\"))\n",
    "height_in_cm = int(input(\"enter the height :-\"))\n",
    "height = height_in_cm**2 \n",
    "bmi = weight_in_kg / height\n",
    "if bmi <= 18 :\n",
    "    print(\"underweight\")\n",
    "elif bmi > 18 and bmi <= 24 :\n",
    "    print(\"normal weight\")\n",
    "elif bmi > 24 and bmi < 30:\n",
    "    print(\"overweight\")\n",
    "else :\n",
    "    print(\"obese\")\n"
   ]
  },
  {
   "cell_type": "markdown",
   "id": "7b37c451-f80c-48fe-b0fa-5d62c3e680aa",
   "metadata": {},
   "source": [
    "### Ques_24. Create a program that determines whether a given number is positive, negative, or zero using elif statements."
   ]
  },
  {
   "cell_type": "code",
   "execution_count": 1,
   "id": "cba7ef55-ed29-4a71-a6df-9ae80575ca5e",
   "metadata": {},
   "outputs": [
    {
     "name": "stdin",
     "output_type": "stream",
     "text": [
      "enter the number 5\n"
     ]
    },
    {
     "name": "stdout",
     "output_type": "stream",
     "text": [
      "positive number\n"
     ]
    }
   ],
   "source": [
    "number = int(input(\"enter the number\"))\n",
    "if number > 0 :\n",
    "    print(\"positive number\")\n",
    "elif number < 0 :\n",
    "    print(\"negative number\")\n",
    "else :\n",
    "    print(\"zero number\")"
   ]
  },
  {
   "cell_type": "markdown",
   "id": "161f6fa1-db58-4907-8b5d-24fdca7e5521",
   "metadata": {},
   "source": [
    "### Ques_25. Write a Python script to determine the type of a character (uppercase, lowercase, or special) using elif statements."
   ]
  },
  {
   "cell_type": "code",
   "execution_count": 8,
   "id": "d103e39a-ad26-4f57-bdf8-cb5e70937dbc",
   "metadata": {},
   "outputs": [
    {
     "name": "stdin",
     "output_type": "stream",
     "text": [
      "Please Enter Your Own Character :  @\n"
     ]
    },
    {
     "name": "stdout",
     "output_type": "stream",
     "text": [
      "special char\n"
     ]
    }
   ],
   "source": [
    "ch = input(\"Please Enter Your Own Character : \")\n",
    "\n",
    "if(ch.isupper()):\n",
    "    print(\"char is uppercase\")\n",
    "elif(ch.islower()):\n",
    "    print(\"char is lowercase\")\n",
    "else:\n",
    "    print(\"special char\")\n",
    "\n"
   ]
  },
  {
   "cell_type": "markdown",
   "id": "151ae307-d94a-4625-8fbd-271a64cfd654",
   "metadata": {},
   "source": [
    "### Ques_26. Implement a program to calculate the discounted price based on different purchase amounts using elif statements."
   ]
  },
  {
   "cell_type": "code",
   "execution_count": 22,
   "id": "281adddf-b417-4e7b-bf9e-7cee586d35e2",
   "metadata": {},
   "outputs": [
    {
     "name": "stdin",
     "output_type": "stream",
     "text": [
      "enter the purchase price 750\n"
     ]
    },
    {
     "name": "stdout",
     "output_type": "stream",
     "text": [
      "discount price 375.0\n"
     ]
    }
   ],
   "source": [
    "purchase = int(input(\"enter the purchase price\"))\n",
    "discount1 = 20 / 100\n",
    "discount2 = 50 / 100\n",
    "if purchase <= 500 :\n",
    "    discount_price1 = purchase * discount \n",
    "    print(\"discount price\",discount_price1)\n",
    "elif purchase > 500 and purchase < 1000 :\n",
    "    discount_price2 = purchase * discount2 \n",
    "    print(\"discount price\",discount_price2)\n",
    "else :\n",
    "    print(\"no discount\")\n",
    "    "
   ]
  },
  {
   "cell_type": "markdown",
   "id": "3660352d-c83e-49af-b712-210c01d64ded",
   "metadata": {},
   "source": [
    "### Ques_27. Develop a program to calculate the electricity bill based on different consumption slabs using elif statements."
   ]
  },
  {
   "cell_type": "code",
   "execution_count": 8,
   "id": "68932f2a-4c2c-45ad-9d2f-1ed374f456bb",
   "metadata": {},
   "outputs": [
    {
     "name": "stdin",
     "output_type": "stream",
     "text": [
      "enter the unit 600\n"
     ]
    },
    {
     "name": "stdout",
     "output_type": "stream",
     "text": [
      "9000.0\n"
     ]
    }
   ],
   "source": [
    "units = float(input(\"enter the unit\"))\n",
    "if units <= 100 :\n",
    "    bill = units*5\n",
    "    print(bill)\n",
    "elif units <= 300 :\n",
    "    bill = 100 * 5 + (units - 100) * 8 \n",
    "    print(bill)\n",
    "elif units <= 500 :\n",
    "    bill = 100*5 + 300*8 + (units-400)*12\n",
    "    print(bill)\n",
    "else :\n",
    "    bill = units*15\n",
    "    print(bill)\n",
    "    "
   ]
  },
  {
   "cell_type": "markdown",
   "id": "a0905d50-4fb2-4002-b306-449359b804bc",
   "metadata": {
    "tags": []
   },
   "source": [
    "### Ques_28. Create a program to determine the type of quadrilateral based on its angles and sides using elif statements."
   ]
  },
  {
   "cell_type": "code",
   "execution_count": 2,
   "id": "5c5521bb-d402-4cd8-8a6b-daa862939806",
   "metadata": {},
   "outputs": [
    {
     "name": "stdin",
     "output_type": "stream",
     "text": [
      "enter the first number 10\n",
      "enter the second number 20\n",
      "enter the third number 10\n",
      "enter the fourth number 30\n"
     ]
    },
    {
     "name": "stdout",
     "output_type": "stream",
     "text": [
      "it is a parallelogram\n"
     ]
    }
   ],
   "source": [
    "a = int(input(\"enter the first number\"))\n",
    "b = int(input(\"enter the second number\"))\n",
    "c = int(input(\"enter the third number\"))\n",
    "d = int(input(\"enter the fourth number\"))\n",
    "if a == b == c == d :\n",
    "    print(\"it is a square\")\n",
    "elif a == c and b == d :\n",
    "    print(\"it is a rectangle\")\n",
    "elif (a == c and b != d) or (a != c and b == d):\n",
    "    print(\"it is a parallelogram\")\n",
    "elif (a == b and c == d) and (a !=c and b !=d):\n",
    "    print(\"it is a kite\")\n",
    "else :\n",
    "    print(\"it is a general quadrilateral\")"
   ]
  },
  {
   "cell_type": "markdown",
   "id": "5e18ee41-80fc-457b-b66a-d6b5f66acf0e",
   "metadata": {},
   "source": [
    "### Ques_29. Write a Python script to determine the season based on a user-provided month using elif statements."
   ]
  },
  {
   "cell_type": "code",
   "execution_count": 10,
   "id": "858c5b2f-0422-4406-92eb-04ee919f4c04",
   "metadata": {
    "tags": []
   },
   "outputs": [
    {
     "name": "stdin",
     "output_type": "stream",
     "text": [
      "enter the month 8\n"
     ]
    },
    {
     "name": "stdout",
     "output_type": "stream",
     "text": [
      "summer\n"
     ]
    }
   ],
   "source": [
    "month = int(input(\"enter the month\"))\n",
    "if 1 <= month <= 12 :\n",
    "    if month in [3,4,5] :\n",
    "        print(\"spring\")\n",
    "    elif month in [6,7,8]:\n",
    "        print(\"summer\")\n",
    "    elif month in [9,10,11]:\n",
    "        print(\"autumn\")\n",
    "    else :\n",
    "        print(\"winter\")\n",
    "else :\n",
    "    print(\"invalid year\")\n"
   ]
  },
  {
   "cell_type": "markdown",
   "id": "d9613592-248b-43b4-9ca2-d121f72e62e4",
   "metadata": {},
   "source": [
    "### Ques_30. Implement a program to determine the type of a year (leap or common) and month (30 or 31 days) using elif statements."
   ]
  },
  {
   "cell_type": "code",
   "execution_count": 4,
   "id": "0bef77d2-f91f-4166-b899-2feb588b028a",
   "metadata": {},
   "outputs": [
    {
     "name": "stdin",
     "output_type": "stream",
     "text": [
      "enter the month 2\n",
      "enter the year 2007\n"
     ]
    },
    {
     "name": "stdout",
     "output_type": "stream",
     "text": [
      "common year and Number of days is 28\n"
     ]
    }
   ],
   "source": [
    "month = int(input(\"enter the month\"))\n",
    "year= int(input(\"enter the year\"))\n",
    "    \n",
    "if((month==2) and ((year%4==0)  or ((year%100==0) and (year%400==0)))) :\n",
    "    print(\"leap year and Number of days is 29\")\n",
    "\n",
    "elif(month==2) :\n",
    "    print(\"common year and Number of days is 28\")\n",
    "\n",
    "elif(month==1 or month==3 or month==5 or month==7 or month==8 or month==10 or month==12) :\n",
    "    print(\"Number of days is 31\")\n",
    "\n",
    "else :\n",
    "    print(\"Number of days is 30\")"
   ]
  },
  {
   "cell_type": "markdown",
   "id": "a1a25ccb-c01d-4f2d-9b58-61e7ffccb4bd",
   "metadata": {},
   "source": [
    "### Basic Level:"
   ]
  },
  {
   "cell_type": "markdown",
   "id": "345cde90-3c23-4771-b922-d4571b608ea9",
   "metadata": {},
   "source": [
    "### Ques_1. Write a Python program that checks if a given number is positive, negative, or zero."
   ]
  },
  {
   "cell_type": "code",
   "execution_count": 18,
   "id": "e4f8936a-c84d-4916-bd05-081cc5d840c8",
   "metadata": {},
   "outputs": [
    {
     "name": "stdin",
     "output_type": "stream",
     "text": [
      "enter the number -5\n"
     ]
    },
    {
     "name": "stdout",
     "output_type": "stream",
     "text": [
      "negative number\n"
     ]
    }
   ],
   "source": [
    "number = int(input(\"enter the number\"))\n",
    "if number == 0 :\n",
    "    print(\"zero number\")\n",
    "elif number >= 0 :\n",
    "    print(\"positive number\")\n",
    "elif number <= 0 :\n",
    "    print(\"negative number\")\n",
    "else :\n",
    "    print(\"nothing\")"
   ]
  },
  {
   "cell_type": "markdown",
   "id": "c22cad57-e7d8-4756-85b5-f7e8e3daf203",
   "metadata": {},
   "source": [
    "### Ques_2. Create a program to determine if a person is eligible to vote based on their age."
   ]
  },
  {
   "cell_type": "code",
   "execution_count": 19,
   "id": "66d72837-4ccc-4a18-9d9a-dec624a13bad",
   "metadata": {},
   "outputs": [
    {
     "name": "stdin",
     "output_type": "stream",
     "text": [
      "enter the number 21\n"
     ]
    },
    {
     "name": "stdout",
     "output_type": "stream",
     "text": [
      "person is eligible\n"
     ]
    }
   ],
   "source": [
    "num_of_age = int(input(\"enter the number\"))\n",
    "if num_of_age >= 18 :\n",
    "    print(\"person is eligible\")\n",
    "else :\n",
    "    print(\"person is not eligible\")"
   ]
  },
  {
   "cell_type": "markdown",
   "id": "7d8437fa-1520-413c-9020-e8f52fcdd02c",
   "metadata": {},
   "source": [
    "### Ques_3. Write a program to find the maximum of two given numbers using conditional statements."
   ]
  },
  {
   "cell_type": "code",
   "execution_count": 20,
   "id": "6550e864-d9d5-4a24-8c96-056f3ed9936f",
   "metadata": {},
   "outputs": [
    {
     "name": "stdin",
     "output_type": "stream",
     "text": [
      "enter the first number 20\n",
      "enter the second number 30\n"
     ]
    },
    {
     "name": "stdout",
     "output_type": "stream",
     "text": [
      "number second is maximum number\n"
     ]
    }
   ],
   "source": [
    "num_first = int(input(\"enter the first number\"))\n",
    "num_second = int(input(\"enter the second number\"))\n",
    "if num_first >= num_second :\n",
    "    print(\"number first is maximum number\")\n",
    "else :\n",
    "    print(\"number second is maximum number\")"
   ]
  },
  {
   "cell_type": "markdown",
   "id": "1ef18e75-2400-4aaa-985d-04dfa4d505b8",
   "metadata": {},
   "source": [
    "### Ques_4. Develop a program that calculates the grade of a student based on their exam score."
   ]
  },
  {
   "cell_type": "code",
   "execution_count": 24,
   "id": "1e900d96-83c6-486f-87f8-011fd126e3fe",
   "metadata": {},
   "outputs": [
    {
     "name": "stdin",
     "output_type": "stream",
     "text": [
      "enter the mark 100\n"
     ]
    },
    {
     "name": "stdout",
     "output_type": "stream",
     "text": [
      "'A'grade\n"
     ]
    }
   ],
   "source": [
    "mark = int(input(\"enter the mark\"))\n",
    "if mark >= 80 and mark <= 100:\n",
    "    print(\"'A'grade\")\n",
    "elif mark >= 60 and mark < 80 :\n",
    "    print(\"'B'grade\")\n",
    "elif mark >= 35 and mark < 60 :\n",
    "    print(\"'C'grade\")\n",
    "else :\n",
    "    print('FAIL')"
   ]
  },
  {
   "cell_type": "markdown",
   "id": "e3cbb463-c052-4b35-8ac7-29481155e762",
   "metadata": {},
   "source": [
    "### Ques_5. Create a program that checks if a year is a leap year or not."
   ]
  },
  {
   "cell_type": "code",
   "execution_count": 25,
   "id": "49e10dbf-74c6-4fb3-b568-32e8eb325c5b",
   "metadata": {},
   "outputs": [
    {
     "name": "stdin",
     "output_type": "stream",
     "text": [
      "enter the year 2007\n"
     ]
    },
    {
     "name": "stdout",
     "output_type": "stream",
     "text": [
      "not\n"
     ]
    }
   ],
   "source": [
    "year =  int(input(\"enter the year\"))\n",
    "if year % 4 == 0 :\n",
    "    print(\"yes\")\n",
    "else :\n",
    "    print(\"not\")"
   ]
  },
  {
   "cell_type": "markdown",
   "id": "257516f7-9cc2-4dbc-b757-e61d134ff59f",
   "metadata": {},
   "source": [
    "### Ques_6. Write a program to classify a triangle based on its sides' lengths."
   ]
  },
  {
   "cell_type": "code",
   "execution_count": 27,
   "id": "5bc94d65-50c5-4f40-aa0d-8ab2f876c08a",
   "metadata": {},
   "outputs": [
    {
     "name": "stdin",
     "output_type": "stream",
     "text": [
      "enter the first number 90\n",
      "enter the second number 45\n",
      "enter the third number 45\n"
     ]
    },
    {
     "name": "stdout",
     "output_type": "stream",
     "text": [
      "right angle\n"
     ]
    }
   ],
   "source": [
    "tri1 = int(input(\"enter the first number\"))\n",
    "tri2 = int(input(\"enter the second number\"))\n",
    "tri3 = int(input(\"enter the third number\"))\n",
    "total = 180\n",
    "if tri1 + tri2 + tri3 == total : \n",
    "    if tri1 == 90 or tri2 == 90 or tri3 == 90 :\n",
    "        print(\"right angle\")\n",
    "    if tri1 > 90 or tri2 > 90 or tri3 > 90 :\n",
    "        print(\"acute angle\")\n",
    "    if tri1 < 90 and tri2 < 90 and tri3 < 90 :\n",
    "        print(\"obtuse angle\")\n",
    "else :\n",
    "    print(\"everything angle is wrong\")"
   ]
  },
  {
   "cell_type": "markdown",
   "id": "4e5abf1c-fb7d-4591-868f-28c45d02ecce",
   "metadata": {},
   "source": [
    "### Ques_7. Build a program that determines the largest of three given numbers."
   ]
  },
  {
   "cell_type": "code",
   "execution_count": 1,
   "id": "1ba7f25a-6893-4d60-9133-fb4fe88dfe30",
   "metadata": {},
   "outputs": [
    {
     "name": "stdin",
     "output_type": "stream",
     "text": [
      "enter the first number 20\n",
      "enter the second number 3060\n",
      "enter the third number 20\n"
     ]
    },
    {
     "name": "stdout",
     "output_type": "stream",
     "text": [
      "second number is largest number\n"
     ]
    }
   ],
   "source": [
    "num_1 = int(input(\"enter the first number\"))\n",
    "num_2 = int(input(\"enter the second number\"))\n",
    "num_3 = int(input(\"enter the third number\"))\n",
    "if num_1 > num_2 :\n",
    "    if num_1 > num_3 :\n",
    "        print(\"first number is largest number\")\n",
    "if num_2 > num_1 :\n",
    "    if num_2 > num_3 :\n",
    "        print(\"second number is largest number\")\n",
    "    else :\n",
    "        print(\"third number is largest number\")"
   ]
  },
  {
   "cell_type": "markdown",
   "id": "502fe204-4491-4ac6-b4e4-c96f827107cb",
   "metadata": {},
   "source": [
    "### Ques_8. Develop a program that checks whether a character is a vowel or a consonant."
   ]
  },
  {
   "cell_type": "code",
   "execution_count": 6,
   "id": "62527bc8-dcd1-441e-b3d0-58d6bb9f9cd1",
   "metadata": {},
   "outputs": [
    {
     "name": "stdin",
     "output_type": "stream",
     "text": [
      "enter the number t\n"
     ]
    },
    {
     "name": "stdout",
     "output_type": "stream",
     "text": [
      "this is consonent\n"
     ]
    }
   ],
   "source": [
    "char = input(\"enter the number\")\n",
    "vowel = 'a','e','u','i','o'\n",
    "if char in vowel :\n",
    "    print(\"this is vowel\")\n",
    "else:\n",
    "    print(\"this is consonent\")"
   ]
  },
  {
   "cell_type": "markdown",
   "id": "fee4c2da-6875-4905-913b-a819b7f053f8",
   "metadata": {},
   "source": [
    "### Ques_9. Create a program to calculate the total cost of a shopping cart based on discounts."
   ]
  },
  {
   "cell_type": "code",
   "execution_count": 9,
   "id": "ffc02bb3-d6e8-4c5b-af74-9f2fbcbe6d80",
   "metadata": {},
   "outputs": [
    {
     "name": "stdin",
     "output_type": "stream",
     "text": [
      "enter the purchase price 600\n"
     ]
    },
    {
     "name": "stdout",
     "output_type": "stream",
     "text": [
      "discount price 300.0\n"
     ]
    }
   ],
   "source": [
    "purchase = int(input(\"enter the purchase price\"))\n",
    "discount1 = 20 / 100\n",
    "discount2 = 50 / 100\n",
    "if purchase <= 500 :\n",
    "    discount_price1 = purchase * discount1 \n",
    "    print(\"discount price\",discount_price1)\n",
    "elif purchase > 500 and purchase < 1000 :\n",
    "    discount_price2 = purchase * discount2 \n",
    "    print(\"discount price\",discount_price2)\n",
    "else :\n",
    "    print(\"no discount\")"
   ]
  },
  {
   "cell_type": "markdown",
   "id": "4d97fd82-06f9-40c0-8b5b-53b84c4965ec",
   "metadata": {},
   "source": [
    "### Ques_10. Write a program that checks if a given number is even or odd."
   ]
  },
  {
   "cell_type": "code",
   "execution_count": 11,
   "id": "5587efc4-d069-4424-a7d7-5c7872dbe664",
   "metadata": {},
   "outputs": [
    {
     "name": "stdin",
     "output_type": "stream",
     "text": [
      "enter the number 51\n"
     ]
    },
    {
     "name": "stdout",
     "output_type": "stream",
     "text": [
      "number is odd\n"
     ]
    }
   ],
   "source": [
    "number = int(input(\"enter the number\"))\n",
    "if number % 2 == 0 :\n",
    "    print(\"number is even\")\n",
    "else :\n",
    "    print(\"number is odd\")"
   ]
  },
  {
   "cell_type": "markdown",
   "id": "c71e9069-0718-48b1-9f0c-fa62e2d62272",
   "metadata": {},
   "source": [
    "### Intermediate Level:"
   ]
  },
  {
   "cell_type": "markdown",
   "id": "8cbb91c1-7bb8-4b22-8996-ba1ef639634a",
   "metadata": {},
   "source": [
    "### Ques_11. Write a program that calculates the roots of a quadratic equation ."
   ]
  },
  {
   "cell_type": "code",
   "execution_count": 1,
   "id": "81dcace5-a8b5-444f-839e-e2aacb3f7cb3",
   "metadata": {},
   "outputs": [
    {
     "name": "stdin",
     "output_type": "stream",
     "text": [
      "enter the first number a !=0 20\n",
      "enter the second number 30\n",
      "enter the third number 60\n"
     ]
    },
    {
     "name": "stdout",
     "output_type": "stream",
     "text": [
      "the roots are (-0.75-1.5612494995995996j) and (-0.75+1.5612494995995996j)\n"
     ]
    }
   ],
   "source": [
    "import cmath \n",
    "a = int(input(\"enter the first number a !=0\"))\n",
    "b = int(input(\"enter the second number\"))\n",
    "c = int(input(\"enter the third number\"))\n",
    "\n",
    "d = (b**2) - (4*a*c)\n",
    "\n",
    "root1 = (-b - cmath.sqrt(d)) / (2*a)\n",
    "root2 = (-b + cmath.sqrt(d)) / (2*a)\n",
    "\n",
    "print(\"the roots are\", root1 , \"and\", root2)"
   ]
  },
  {
   "cell_type": "markdown",
   "id": "a8701338-82f7-4eba-a22f-57e69bf3d5b8",
   "metadata": {},
   "source": [
    "### Ques_12. Create a program that determines the day of the week based on the day number (1-7)."
   ]
  },
  {
   "cell_type": "code",
   "execution_count": 1,
   "id": "74112f61-b029-43af-98c3-0ed8b19ad52b",
   "metadata": {},
   "outputs": [
    {
     "name": "stdin",
     "output_type": "stream",
     "text": [
      "enter the number 5\n"
     ]
    },
    {
     "name": "stdout",
     "output_type": "stream",
     "text": [
      "today is friday\n"
     ]
    }
   ],
   "source": [
    "num = int(input(\"enter the number\"))\n",
    "if num == 1 :\n",
    "    print(\"today is monday\")\n",
    "elif num == 2 :\n",
    "    print(\"today is tuesday\")\n",
    "elif num == 3 :\n",
    "    print(\"today is wednesday\")\n",
    "elif num == 4 :\n",
    "    print(\"today is thursday\")\n",
    "elif num == 5 :\n",
    "    print(\"today is friday\")\n",
    "elif num == 6 :\n",
    "    print(\"today is saturday\")\n",
    "elif num == 7 :\n",
    "    print(\"today is sunday\")\n",
    "else :\n",
    "    print(\"today is nothing\")"
   ]
  },
  {
   "cell_type": "markdown",
   "id": "755427cb-d845-4d35-b0f8-70a4d1a0479b",
   "metadata": {},
   "source": [
    "### Ques_13. Develop a program that calculates the factorial of a given number using recursion."
   ]
  },
  {
   "cell_type": "code",
   "execution_count": 5,
   "id": "1d17008a-4804-4944-a656-8c8ca7246eda",
   "metadata": {},
   "outputs": [
    {
     "name": "stdin",
     "output_type": "stream",
     "text": [
      "enter the number 5\n"
     ]
    },
    {
     "name": "stdout",
     "output_type": "stream",
     "text": [
      "the factorial is : 120\n"
     ]
    }
   ],
   "source": [
    "def factorial(num) :\n",
    "    if num == 1 :\n",
    "        return 1 \n",
    "    else :\n",
    "        return (num * factorial(num - 1))\n",
    "num = int(input(\"enter the number\"))\n",
    "if num <= 0 :\n",
    "    print(\"nothing\")\n",
    "else :\n",
    "    print('the factorial is :',factorial(num))"
   ]
  },
  {
   "cell_type": "markdown",
   "id": "0dde6a8b-ff66-4a49-8b62-81b440bc865d",
   "metadata": {},
   "source": [
    "### Ques_14. Write a program to find the largest among three numbers without using the `max()` function."
   ]
  },
  {
   "cell_type": "code",
   "execution_count": 6,
   "id": "115b9fb5-f167-4dd2-b85c-f7bb31f6c0a1",
   "metadata": {},
   "outputs": [
    {
     "name": "stdin",
     "output_type": "stream",
     "text": [
      "enter the first number 20\n",
      "enter the second number 306\n",
      "enter the third number 5230\n"
     ]
    },
    {
     "name": "stdout",
     "output_type": "stream",
     "text": [
      "third number is largest\n"
     ]
    }
   ],
   "source": [
    "num1 = int(input(\"enter the first number\"))\n",
    "num2 = int(input(\"enter the second number\"))\n",
    "num3 = int(input(\"enter the third number\"))\n",
    "if num1 > num2 :\n",
    "    if num1 > num3 :\n",
    "        print(\"first number is largest.\")\n",
    "elif num2 > num1 :\n",
    "    if num2 > num3 :\n",
    "        print(\"secomd number is largest\")\n",
    "    else :\n",
    "            print(\"third number is largest\")"
   ]
  },
  {
   "cell_type": "markdown",
   "id": "d75c8280-27b4-4c85-b5a7-e55022e1d071",
   "metadata": {},
   "source": [
    "### Ques_15. Create a program that simulates a basic ATM transaction menu."
   ]
  },
  {
   "cell_type": "code",
   "execution_count": 6,
   "id": "022b55d1-9ffa-4c15-a820-72d5df6f3bba",
   "metadata": {},
   "outputs": [
    {
     "name": "stdout",
     "output_type": "stream",
     "text": [
      "welcome to state bank of india\n"
     ]
    },
    {
     "name": "stdin",
     "output_type": "stream",
     "text": [
      "please enter your 4 digit pin 2563\n"
     ]
    },
    {
     "name": "stdout",
     "output_type": "stream",
     "text": [
      "wrong pin number\n",
      "you have 2 chances left\n"
     ]
    },
    {
     "name": "stdin",
     "output_type": "stream",
     "text": [
      "would you like to exit ? yes? no 1256\n",
      "please enter your 4 digit pin 2365\n"
     ]
    },
    {
     "name": "stdout",
     "output_type": "stream",
     "text": [
      "wrong pin number\n",
      "you have 1 chances left\n"
     ]
    },
    {
     "name": "stdin",
     "output_type": "stream",
     "text": [
      "would you like to exit ? yes? no no\n",
      "please enter your 4 digit pin 3265\n"
     ]
    },
    {
     "name": "stdout",
     "output_type": "stream",
     "text": [
      "wrong pin number\n",
      "you have 0 chances left\n"
     ]
    },
    {
     "name": "stdin",
     "output_type": "stream",
     "text": [
      "would you like to exit ? yes? no yes\n"
     ]
    },
    {
     "name": "stdout",
     "output_type": "stream",
     "text": [
      "thankyou for using atm machine \n"
     ]
    }
   ],
   "source": [
    "print('welcome to state bank of india')\n",
    "pin = 1234\n",
    "chances = 3\n",
    "balance = 10000\n",
    "while chances != 0 :\n",
    "    user_pin = int(input('please enter your 4 digit pin'))\n",
    "    if user_pin != pin :\n",
    "        chances = chances - 1 \n",
    "        print('wrong pin number')\n",
    "        print(f'you have {chances} chances left')\n",
    "    else :\n",
    "        user_choice = input('B : balance , D : deposite , W : withdraw')\n",
    "        if user_choice == \"B\":\n",
    "            print(f'your total balance is rs. {balance}')\n",
    "        if user_choice == \"D\" :\n",
    "            deposit_user = int(input('enter the amount '))\n",
    "            total_balance = deposit_user + balance\n",
    "            print(f'you have deposited rs. {deposit_user}')\n",
    "            print(f'your total balance is rs. {total_balance}')\n",
    "        if user_choice == \"W\" :\n",
    "            withdraw_wser = int(input(\"enter the amount you withdraw\"))\n",
    "            total_balance = balance - withdraw_wser\n",
    "            print(f'you have withdraw rs. {total_balance}')\n",
    "            print(f'your total balance is rs.{total_balance}')\n",
    "    user_exit= input('would you like to exit ? yes? no')\n",
    "    if user_exit == \"yes\" : \n",
    "        print(\"thankyou for using atm machine \")\n",
    "        break \n",
    "    else :\n",
    "        continue"
   ]
  },
  {
   "cell_type": "markdown",
   "id": "988e57cb-2d72-49ad-b1cb-e8810848bce0",
   "metadata": {},
   "source": [
    "### Ques_16. Build a program that checks if a given string is a palindrome or not."
   ]
  },
  {
   "cell_type": "code",
   "execution_count": 8,
   "id": "a21ce4ba-07f6-42f2-8642-93037c41e0c3",
   "metadata": {},
   "outputs": [
    {
     "name": "stdin",
     "output_type": "stream",
     "text": [
      "enter your word rapar\n"
     ]
    },
    {
     "name": "stdout",
     "output_type": "stream",
     "text": [
      "yes\n"
     ]
    }
   ],
   "source": [
    "a = input('enter your word')\n",
    "b = a[::-1]\n",
    "if a == b :\n",
    "    print(\"yes\")\n",
    "else :\n",
    "    print('no')"
   ]
  },
  {
   "cell_type": "markdown",
   "id": "0c971b24-0fba-4576-aa29-0bc40f4c6f7a",
   "metadata": {},
   "source": [
    "### Ques_17. Write a program that calculates the average of a list of numbers, excluding the smallest and largest values."
   ]
  },
  {
   "cell_type": "code",
   "execution_count": 29,
   "id": "18fb4f68-0c3a-44ed-8697-59cb5a74f2fd",
   "metadata": {},
   "outputs": [
    {
     "name": "stdout",
     "output_type": "stream",
     "text": [
      "the smallest number is :-  5\n",
      "the largest number is :-  35\n",
      "the average number is :- 20.0\n"
     ]
    }
   ],
   "source": [
    "lists = [15,25,20,35,5]\n",
    "min_num = min(lists)\n",
    "max_num = max(lists)\n",
    "print(\"the smallest number is :- \",min_num)\n",
    "print(\"the largest number is :- \",max_num)\n",
    "length = len(lists)\n",
    "sum_num = sum(lists)\n",
    "average = sum_num / length\n",
    "print('the average number is :-',average)\n",
    "\n"
   ]
  },
  {
   "cell_type": "markdown",
   "id": "55db4c3d-8789-412b-8b10-7e1ea5cd02a9",
   "metadata": {},
   "source": [
    "### Ques_18. Develop a program that converts a given temperature from Celsius to Fahrenheit."
   ]
  },
  {
   "cell_type": "code",
   "execution_count": 31,
   "id": "8a46499e-995e-4257-b7fd-8b8db77d38af",
   "metadata": {},
   "outputs": [
    {
     "name": "stdin",
     "output_type": "stream",
     "text": [
      "enter the celsius degree 5\n"
     ]
    },
    {
     "name": "stdout",
     "output_type": "stream",
     "text": [
      "41.0\n"
     ]
    }
   ],
   "source": [
    "# F = (9/5 × °C) + 32\n",
    "celsius = int(input('enter the celsius degree'))\n",
    "fahrenheit = (9/5 * celsius) + 32\n",
    "print(fahrenheit)\n"
   ]
  },
  {
   "cell_type": "markdown",
   "id": "6b5ecef0-943c-4e9b-954e-aab246b32ea9",
   "metadata": {},
   "source": [
    "### Ques_19. Create a program that simulates a basic calculator for addition, subtraction, multiplication, and division."
   ]
  },
  {
   "cell_type": "code",
   "execution_count": 35,
   "id": "52a412c1-969a-410c-b290-f84fae637148",
   "metadata": {},
   "outputs": [
    {
     "name": "stdin",
     "output_type": "stream",
     "text": [
      "enter the first number 20\n",
      "enter your symbol /\n",
      "enter the second number 5\n"
     ]
    },
    {
     "name": "stdout",
     "output_type": "stream",
     "text": [
      "4.0\n"
     ]
    }
   ],
   "source": [
    "num1 = int(input(\"enter the first number\"))\n",
    "operator = input('enter your symbol')\n",
    "num2 = int(input(\"enter the second number\"))\n",
    "if operator == \"+\" :\n",
    "    print(num1 + num2)\n",
    "elif operator == \"-\" :\n",
    "    print(num1 - num2)\n",
    "elif operator == \"*\":\n",
    "    print(num1 * num2)\n",
    "elif operator == \"/\":\n",
    "    print(num1 / num2 )\n",
    "else :\n",
    "    print(nothing)"
   ]
  },
  {
   "cell_type": "markdown",
   "id": "67a9ee89-2ed1-4f39-902a-7f8e5a62b8f4",
   "metadata": {},
   "source": [
    "### Ques_20. Write a program that determines the roots of a cubic equation using the Cardano formula."
   ]
  },
  {
   "cell_type": "code",
   "execution_count": 1,
   "id": "06c043e0-bb58-4f22-a70d-25b6e98efecc",
   "metadata": {},
   "outputs": [
    {
     "name": "stdout",
     "output_type": "stream",
     "text": [
      "Roots: [(1.25-0.721687836487032j), (2.75+0.721687836487032j), (3.874999999999999+1.2268693220279543j)]\n"
     ]
    }
   ],
   "source": [
    "import cmath\n",
    "\n",
    "def cubic_roots(a, b, c, d):\n",
    "    # Calculate discriminant and its square root\n",
    "    delta0 = b**2 - 3*a*c\n",
    "    delta1 = 2*b**3 - 9*a*b*c + 27*a**2*d\n",
    "    C = ((delta1 + cmath.sqrt(delta1**2 - 4*delta0**3)) / 2)**(1/3)\n",
    "    \n",
    "    # Calculate roots\n",
    "    roots = []\n",
    "    for k in range(3):\n",
    "        root = (-1/(3*a)) * (b + C * ((-1 + 1j * cmath.sqrt(3))**k + (-1 - 1j * cmath.sqrt(3))**k) - delta0 / (C * ((-1 + 1j * cmath.sqrt(3))**k + (-1 - 1j * cmath.sqrt(3))**k)))\n",
    "        roots.append(root)\n",
    "    \n",
    "    return roots\n",
    "\n",
    "# Example usage\n",
    "a = 1\n",
    "b = -6\n",
    "c = 11\n",
    "d = -6\n",
    "\n",
    "roots = cubic_roots(a, b, c, d)\n",
    "print(\"Roots:\", roots)\n"
   ]
  },
  {
   "cell_type": "markdown",
   "id": "017805c7-5dae-4c0a-a85e-82b2efdb2410",
   "metadata": {},
   "source": [
    "### Advanced Level:"
   ]
  },
  {
   "cell_type": "markdown",
   "id": "f1f39286-e44a-401c-9826-f2c181194315",
   "metadata": {},
   "source": [
    "### Ques_21. Create a program that calculates the income tax based on the user's income and tax brackets."
   ]
  },
  {
   "cell_type": "code",
   "execution_count": 16,
   "id": "2ce93812-bad5-4b60-8951-d11150162010",
   "metadata": {},
   "outputs": [
    {
     "name": "stdin",
     "output_type": "stream",
     "text": [
      "enter your income 30000000\n"
     ]
    },
    {
     "name": "stdout",
     "output_type": "stream",
     "text": [
      "22812500.0\n"
     ]
    }
   ],
   "source": [
    "income = int(input('enter your income'))\n",
    "if income <= 250000 :\n",
    "    print(\"you do not pay income tax because under the income\")\n",
    "elif income <= 500000:\n",
    "    tax = (income-250000) * 5 / 100\n",
    "    print(tax)\n",
    "elif income <= 1000000 :\n",
    "    tax = 250000 * 5 / 100\n",
    "    total_tax = tax + (income - 500000) * 20 / 100\n",
    "    print(total_tax)\n",
    "elif income <= 2000000 :\n",
    "    tax = 250000 * 5/100\n",
    "    tax = tax + (500000 * 20 / 100)\n",
    "    total_tax = tax + ((income - 1000000) * 30 / 100)\n",
    "    print(total_tax)\n",
    "elif income >= 2000001 :\n",
    "    tax = 250000 * 5 / 100\n",
    "    tax = tax + (500000 * 20 / 100 )\n",
    "    tax = tax + ((income - 1000000) * 30 / 100)\n",
    "    total_tax = tax + (income - 2000000) * 50 / 100\n",
    "    print(total_tax)"
   ]
  },
  {
   "cell_type": "markdown",
   "id": "8c8320fa-12df-4e5b-b002-d1c82f2f4499",
   "metadata": {},
   "source": [
    "### Ques_22. Write a program that simulates a rock-paper-scissors game against the computer."
   ]
  },
  {
   "cell_type": "code",
   "execution_count": 2,
   "id": "3885d994-42fe-4155-91c0-9790be754675",
   "metadata": {},
   "outputs": [
    {
     "name": "stdin",
     "output_type": "stream",
     "text": [
      "\n",
      "game start......\n",
      "1 play \n",
      "2 exit\n",
      " 1\n",
      "\n",
      "1 rock \n",
      "2 scissor\n",
      "3 paper \n",
      " 2\n"
     ]
    },
    {
     "name": "stdout",
     "output_type": "stream",
     "text": [
      "computer value paper\n",
      "user value scissor\n",
      "you win\n"
     ]
    },
    {
     "name": "stdin",
     "output_type": "stream",
     "text": [
      "\n",
      "1 rock \n",
      "2 scissor\n",
      "3 paper \n",
      " 2\n"
     ]
    },
    {
     "name": "stdout",
     "output_type": "stream",
     "text": [
      "computer value rock\n",
      "user choice  scissor\n",
      "computer win \n"
     ]
    },
    {
     "name": "stdin",
     "output_type": "stream",
     "text": [
      "\n",
      "1 rock \n",
      "2 scissor\n",
      "3 paper \n",
      " 3\n"
     ]
    },
    {
     "name": "stdout",
     "output_type": "stream",
     "text": [
      "computer value scissor\n",
      "user choice  paper\n",
      "computer win \n"
     ]
    },
    {
     "name": "stdin",
     "output_type": "stream",
     "text": [
      "\n",
      "1 rock \n",
      "2 scissor\n",
      "3 paper \n",
      " 3\n"
     ]
    },
    {
     "name": "stdout",
     "output_type": "stream",
     "text": [
      "computer value scissor\n",
      "user choice  paper\n",
      "computer win \n"
     ]
    },
    {
     "name": "stdin",
     "output_type": "stream",
     "text": [
      "\n",
      "1 rock \n",
      "2 scissor\n",
      "3 paper \n",
      " 3\n"
     ]
    },
    {
     "name": "stdout",
     "output_type": "stream",
     "text": [
      "computer value rock\n",
      "user value paper\n",
      "you win\n",
      "computer win the game....\n",
      "user score is  2\n",
      "computer score is  3\n"
     ]
    },
    {
     "name": "stdin",
     "output_type": "stream",
     "text": [
      "\n",
      "game start......\n",
      "1 play \n",
      "2 exit\n",
      " 2\n"
     ]
    }
   ],
   "source": [
    "import random \n",
    "L = ['rock','scissor','paper']\n",
    "while True :\n",
    "    ccount = 0\n",
    "    ucount = 0\n",
    "    uc = int(input('''\n",
    "game start......\n",
    "1 play \n",
    "2 exit\n",
    "'''))\n",
    "    if uc == 1 :\n",
    "        for i in range(1,6):\n",
    "            userinput = int(input('''\n",
    "1 rock \n",
    "2 scissor\n",
    "3 paper \n",
    "'''))\n",
    "            \n",
    "            if userinput == 1:\n",
    "                uchoice = 'rock'\n",
    "            elif userinput == 2:\n",
    "                uchoice = 'scissor'\n",
    "            elif userinput == 3 :\n",
    "                uchoice = 'paper'\n",
    "            cchoice = random.choice(L)\n",
    "            if cchoice == uchoice :\n",
    "                print('computer choice is',cchoice)\n",
    "                print('user choice is ',uchoice)\n",
    "                print('game draw')\n",
    "                ucount = ucount + 1\n",
    "                ccount = ccount + 1\n",
    "            elif (uchoice == 'rock' and cchoice == 'scissor') or (uchoice == 'paper' and cchoice =='rock') or (uchoice == 'scissor' and cchoice == 'paper'):\n",
    "                print('computer value',cchoice)\n",
    "                print('user value', uchoice)\n",
    "                print('you win')\n",
    "                ucount = ucount + 1\n",
    "            else :\n",
    "                print('computer value', cchoice)\n",
    "                print('user choice ', uchoice)\n",
    "                print('computer win ')\n",
    "                ccount = ccount + 1\n",
    "        if ucount == ccount :\n",
    "            print('final game draw...')\n",
    "            print('user score', ucount)\n",
    "            print('computer score',ccount)\n",
    "        elif ucount > ccount :\n",
    "            print('you won the game....')\n",
    "            print('your score is ',ucount)\n",
    "            print('computer score is ', ccount)\n",
    "        else :\n",
    "            print('computer win the game....')\n",
    "            print('user score is ', ucount)\n",
    "            print('computer score is ', ccount)\n",
    "    else :\n",
    "        break"
   ]
  },
  {
   "cell_type": "markdown",
   "id": "58b136ee-1827-473f-acc8-a271dc00d575",
   "metadata": {},
   "source": [
    "### Ques_23. Develop a program that generates a random password based on user preferences (length, complexity)."
   ]
  },
  {
   "cell_type": "code",
   "execution_count": 15,
   "id": "3c492fa7-334a-47dd-beba-dc69c5c43614",
   "metadata": {},
   "outputs": [
    {
     "name": "stdout",
     "output_type": "stream",
     "text": [
      "welcome to random password\n"
     ]
    },
    {
     "name": "stdin",
     "output_type": "stream",
     "text": [
      "enter the length of password 12\n"
     ]
    },
    {
     "name": "stdout",
     "output_type": "stream",
     "text": [
      "S*z3]~o\\|@Qx\n"
     ]
    }
   ],
   "source": [
    "import random \n",
    "import string \n",
    "print('welcome to random password')\n",
    "def main() :\n",
    "    \n",
    "    length = int(input('enter the length of password'))\n",
    "    lower = string.ascii_lowercase\n",
    "    upper = string.ascii_uppercase\n",
    "    symbol = string.punctuation\n",
    "    digit = string.digits\n",
    "    combine = lower + upper + symbol + digit\n",
    "    x = random.sample(combine , length)\n",
    "    password = \"\".join(x)\n",
    "    print(password)\n",
    "\n",
    "main()\n",
    "\n"
   ]
  },
  {
   "cell_type": "markdown",
   "id": "f7781386-0856-4c30-8f97-53e676f551f2",
   "metadata": {},
   "source": [
    "### Ques_24. Create a program that implements a simple text-based adventure game with branching scenarios."
   ]
  },
  {
   "cell_type": "code",
   "execution_count": 23,
   "id": "65e11c3d-66eb-400d-9899-9c192a2c3f1a",
   "metadata": {},
   "outputs": [
    {
     "name": "stdout",
     "output_type": "stream",
     "text": [
      "adventure game\n"
     ]
    },
    {
     "name": "stdin",
     "output_type": "stream",
     "text": [
      "enter your choice 2\n"
     ]
    },
    {
     "name": "stdout",
     "output_type": "stream",
     "text": [
      "some food\n"
     ]
    }
   ],
   "source": [
    "print(\"adventure game\")\n",
    "def start_game() :\n",
    "    \n",
    "    choice = int(input('enter your choice'))\n",
    "    \n",
    "    if choice == 1:\n",
    "        door_1()\n",
    "    elif choice == 2 :\n",
    "        door_2() \n",
    "    else :\n",
    "        print(\"restart game\")\n",
    "        start_game \n",
    "def door_1() :\n",
    "    print('lion')\n",
    "\n",
    "def door_2():\n",
    "    print('some food')\n",
    "\n",
    "start_game()"
   ]
  },
  {
   "cell_type": "markdown",
   "id": "43298b80-23f2-4b4e-b41b-6a03b33254b0",
   "metadata": {},
   "source": [
    "### Ques_25. Build a program that solves a linear equation  for x, considering different cases."
   ]
  },
  {
   "cell_type": "code",
   "execution_count": 3,
   "id": "56c23808-8ea7-42a0-83e0-1ffe152ca1b9",
   "metadata": {},
   "outputs": [
    {
     "name": "stdin",
     "output_type": "stream",
     "text": [
      "Enter the coefficient of x (A):  0\n",
      "Enter the constant term (B):  5\n"
     ]
    },
    {
     "name": "stdout",
     "output_type": "stream",
     "text": [
      "No solution (Contradictory Equation)\n"
     ]
    }
   ],
   "source": [
    "def solve_linear_eq(a, b):\n",
    "    if a == 0:\n",
    "        if b == 0:\n",
    "            print(\"Infinite solutions (Identity Equation)\")\n",
    "        else:\n",
    "            print(\"No solution (Contradictory Equation)\")\n",
    "    else:\n",
    "        x = -b / a\n",
    "        print(\"Unique solution:\")\n",
    "        print(\"x =\", x)\n",
    "\n",
    "# Ax + B = 0\n",
    "A = float(input(\"Enter the coefficient of x (A): \"))\n",
    "B = float(input(\"Enter the constant term (B): \"))\n",
    "\n",
    "solve_linear_eq(A, B)\n"
   ]
  },
  {
   "cell_type": "markdown",
   "id": "bc28172e-a7dc-48e2-a8d3-c055b515222f",
   "metadata": {},
   "source": [
    "### Ques_26. Write a program that simulates a basic quiz game with multiple-choice questions and scoring."
   ]
  },
  {
   "cell_type": "code",
   "execution_count": 9,
   "id": "9994a51f-a19c-420e-9633-41f3df04f658",
   "metadata": {},
   "outputs": [
    {
     "name": "stdout",
     "output_type": "stream",
     "text": [
      "...............\n",
      "what is your name ?\n",
      "a. gaurav\n",
      "b. vishal\n",
      "c. sarabjeet\n",
      "d. tanveer\n"
     ]
    },
    {
     "name": "stdin",
     "output_type": "stream",
     "text": [
      "enter (a, b, c, d):  s\n"
     ]
    },
    {
     "name": "stdout",
     "output_type": "stream",
     "text": [
      "incorrect\n",
      "a is a correct answer\n",
      "...............\n",
      "what is your father name ?\n",
      "a. kaushlesh kumar\n",
      "b. manoj\n",
      "c. ramesh\n",
      "d. sachine\n"
     ]
    },
    {
     "name": "stdin",
     "output_type": "stream",
     "text": [
      "enter (a, b, c, d):  a\n"
     ]
    },
    {
     "name": "stdout",
     "output_type": "stream",
     "text": [
      "correct\n",
      "...............\n",
      "what is your favorates color ?\n",
      "a. black\n",
      "b. blue\n",
      "c. red \n",
      "d. yellow\n"
     ]
    },
    {
     "name": "stdin",
     "output_type": "stream",
     "text": [
      "enter (a, b, c, d):  \n"
     ]
    },
    {
     "name": "stdout",
     "output_type": "stream",
     "text": [
      "incorrect\n",
      "a is a correct answer\n",
      "...............\n",
      "what is your age ?\n",
      "a. 23\n",
      "b. 25\n",
      "c. 24\n",
      "d. 22\n"
     ]
    },
    {
     "name": "stdin",
     "output_type": "stream",
     "text": [
      "enter (a, b, c, d):  a\n"
     ]
    },
    {
     "name": "stdout",
     "output_type": "stream",
     "text": [
      "correct\n",
      "...............\n",
      "what is your qualification ?\n",
      "a. gradution\n",
      "b. inter\n",
      "c. high school \n",
      "d. uneducation\n"
     ]
    },
    {
     "name": "stdin",
     "output_type": "stream",
     "text": [
      "enter (a, b, c, d):  s\n"
     ]
    },
    {
     "name": "stdout",
     "output_type": "stream",
     "text": [
      "incorrect\n",
      "a is a correct answer\n"
     ]
    }
   ],
   "source": [
    "question = ('what is your name ?',\n",
    "            'what is your father name ?' ,\n",
    "            'what is your favorates color ?' ,\n",
    "            'what is your age ?' ,\n",
    "            'what is your qualification ?')\n",
    "\n",
    "option = (('a. gaurav','b. vishal','c. sarabjeet','d. tanveer'),\n",
    "         ('a. kaushlesh kumar','b. manoj','c. ramesh','d. sachine'),\n",
    "         ('a. black','b. blue','c. red ','d. yellow'),\n",
    "         ('a. 23','b. 25','c. 24','d. 22'),\n",
    "         ('a. gradution','b. inter','c. high school ','d. uneducation'))\n",
    "\n",
    "answer = ('a','a','a','a','a')\n",
    "guessess = []\n",
    "question_num = 0\n",
    "score = 0\n",
    "\n",
    "\n",
    "for i in question :\n",
    "    print('...............')\n",
    "    print(i)\n",
    "    for o in option[question_num] :\n",
    "        print(o)\n",
    "    guess = input(\"enter (a, b, c, d): \")\n",
    "    guessess.append(guess)\n",
    "    if guess == answer[question_num]:\n",
    "        score = score + 1\n",
    "        print('correct')\n",
    "    else :\n",
    "        print('incorrect')\n",
    "        print(f\"{answer[question_num]} is a correct answer\")\n",
    "    question_num = question_num + 1\n",
    "\n",
    "\n",
    "\n"
   ]
  },
  {
   "cell_type": "markdown",
   "id": "03145c7d-b97c-45ab-a055-a67ba7dfe790",
   "metadata": {},
   "source": [
    "### Ques_27. Develop a program that determines whether a given year is a prime number or not."
   ]
  },
  {
   "cell_type": "code",
   "execution_count": 4,
   "id": "88921d97-2ed0-496c-9438-78eea4c0605f",
   "metadata": {},
   "outputs": [
    {
     "name": "stdin",
     "output_type": "stream",
     "text": [
      "enter your number 4586\n"
     ]
    },
    {
     "name": "stdout",
     "output_type": "stream",
     "text": [
      "it is not prime number\n"
     ]
    }
   ],
   "source": [
    "num = int(input('enter your number'))\n",
    "if num == 1 :\n",
    "    print('it is not a prime number')\n",
    "if num > 1 :\n",
    "    for i in range(2,num):\n",
    "        if num % i == 0 :\n",
    "            print('it is not prime number')\n",
    "            break\n",
    "    else :\n",
    "        print('it is a prime number')\n",
    "            "
   ]
  },
  {
   "cell_type": "markdown",
   "id": "f3b38d7f-a22a-4d5e-aa9f-274f53e513c5",
   "metadata": {},
   "source": [
    "### Ques_28. Create a program that sorts three numbers in ascending order using conditional statements."
   ]
  },
  {
   "cell_type": "code",
   "execution_count": 20,
   "id": "11b8bf7f-ae63-4a54-bda5-aafe4f16d72f",
   "metadata": {},
   "outputs": [
    {
     "name": "stdin",
     "output_type": "stream",
     "text": [
      "enter the first number 15\n",
      "enter the second number 12\n",
      "enter the third number 132\n"
     ]
    },
    {
     "name": "stdout",
     "output_type": "stream",
     "text": [
      "ascending order 12 15 132\n"
     ]
    }
   ],
   "source": [
    "num1 = int(input('enter the first number'))\n",
    "num2 = int(input('enter the second number'))\n",
    "num3 = int(input('enter the third number'))\n",
    "if num1 <= num2 and num1 <= num3 :\n",
    "    if num2 <= num3 :\n",
    "        print(\"ascending order\",num1,num2,num3)\n",
    "    else :\n",
    "        if num3 <= num2 :\n",
    "            print(\"ascending order\",num1,num3,num2)\n",
    "elif num2 <= num1 and num2 <= num3 :\n",
    "    if num1 <= num3 :\n",
    "        print('ascending order', num2,num1,num3)\n",
    "    else :\n",
    "        if num3<=num1 :\n",
    "            print('ascending order',num2,num3,num1)\n",
    "else :\n",
    "    print(\"ascemdimg order\",num3,num1,num2)\n",
    "        \n",
    "        "
   ]
  },
  {
   "cell_type": "markdown",
   "id": "d2351b48-50dd-4c0a-a33c-05c23e473ca4",
   "metadata": {},
   "source": [
    "### Ques_29. Build a program that determines the roots of a quartic equation using numerical methods."
   ]
  },
  {
   "cell_type": "code",
   "execution_count": 31,
   "id": "019ca5bf-801e-4f59-8115-3c1aa183a4a6",
   "metadata": {},
   "outputs": [
    {
     "name": "stdin",
     "output_type": "stream",
     "text": [
      "enter the first number a !=0 5\n",
      "enter the second number 10\n",
      "enter the third number 15\n"
     ]
    },
    {
     "name": "stdout",
     "output_type": "stream",
     "text": [
      "the roots are (-1-1.4142135623730951j) and (-1+1.4142135623730951j)\n"
     ]
    }
   ],
   "source": [
    "import cmath \n",
    "a = int(input(\"enter the first number a !=0\"))\n",
    "b = int(input(\"enter the second number\"))\n",
    "c = int(input(\"enter the third number\"))\n",
    "\n",
    "d = (b**2) - (4*a*c)\n",
    "\n",
    "root1 = (-b - cmath.sqrt(d)) / (2*a)\n",
    "root2 = (-b + cmath.sqrt(d)) / (2*a)\n",
    "\n",
    "print(\"the roots are\", root1 , \"and\", root2)"
   ]
  },
  {
   "cell_type": "markdown",
   "id": "f454b9cf-4e71-4a85-9934-00f6ec226c6c",
   "metadata": {},
   "source": [
    "### Ques_30. Write a program that calculates the BMI (Body Mass Index) and provides health recommendations based on the user's input."
   ]
  },
  {
   "cell_type": "code",
   "execution_count": 29,
   "id": "030cd134-4c33-4247-a313-8165a42d5e78",
   "metadata": {},
   "outputs": [
    {
     "name": "stdin",
     "output_type": "stream",
     "text": [
      "enter the weight :- 95\n",
      "enter the height :- 1.75\n"
     ]
    },
    {
     "name": "stdout",
     "output_type": "stream",
     "text": [
      "you are very need exicese of your health\n"
     ]
    }
   ],
   "source": [
    "weight_in_kg = int(input(\"enter the weight :-\"))\n",
    "height_in_cm = float(input(\"enter the height :-\"))\n",
    "height = height_in_cm**2 \n",
    "bmi = weight_in_kg / height\n",
    "if bmi <= 18 :\n",
    "    print(\"you need very health food\")    \n",
    "elif bmi > 18 and bmi <= 24 :\n",
    "    print(\"you are very good body but some excisce do  \")\n",
    "elif bmi > 24 and bmi < 30:\n",
    "    print(\"you are very health person and everyday do exicse long time\")\n",
    "else :\n",
    "    print(\"you are very need exicese of your health\")"
   ]
  },
  {
   "cell_type": "markdown",
   "id": "00d32bd0-43c6-421d-a55a-8a25c072c52b",
   "metadata": {},
   "source": [
    "### Challenge Level:"
   ]
  },
  {
   "cell_type": "markdown",
   "id": "4450c00a-7f0e-48f1-b92c-16c417383a9e",
   "metadata": {},
   "source": [
    "### Ques_31. Create a program that validates a password based on complexity rules (length, characters, etc.)."
   ]
  },
  {
   "cell_type": "code",
   "execution_count": 5,
   "id": "4e2a48eb-5eed-4002-b383-aec21f66fca3",
   "metadata": {},
   "outputs": [
    {
     "name": "stdout",
     "output_type": "stream",
     "text": [
      "abcdefghijklmnopqrstuvwxyz ABCDEFGHIJKLMNOPQRSTUVWXYZ !\"#$%&'()*+,-./:;<=>?@[\\]^_`{|}~ 0123456789\n"
     ]
    },
    {
     "name": "stdin",
     "output_type": "stream",
     "text": [
      "enter password length 10\n"
     ]
    },
    {
     "name": "stdout",
     "output_type": "stream",
     "text": [
      "your password is :-\n",
      "#Q2G+k(:~K\n"
     ]
    }
   ],
   "source": [
    "import string \n",
    "import random\n",
    "\n",
    "\n",
    "s = []\n",
    "s1 = string.ascii_lowercase\n",
    "s2 = string.ascii_uppercase\n",
    "s3 = string.punctuation\n",
    "s4 = string.digits\n",
    "print(s1,s2,s3,s4)\n",
    "plen = int(input('enter password length'))\n",
    "s.extend(list(s1))\n",
    "s.extend(list(s2))\n",
    "s.extend(list(s3))\n",
    "s.extend(list(s4))\n",
    "    \n",
    "random.shuffle(s)\n",
    "print('your password is :-')\n",
    "print(''.join(s[0:plen]))"
   ]
  },
  {
   "cell_type": "markdown",
   "id": "4c9601cf-ac7d-49af-8e41-553652b3aaca",
   "metadata": {},
   "source": [
    "## Ques_32. Develop a program that performs matrix addition and subtraction based on user input."
   ]
  },
  {
   "cell_type": "code",
   "execution_count": 17,
   "id": "34567fc4-d109-4e6b-bb89-981919df4fff",
   "metadata": {},
   "outputs": [
    {
     "name": "stdout",
     "output_type": "stream",
     "text": [
      "matrix addition [[7, 5, 8], [11, 13, 14]]\n",
      "matrix subtaction [[-3, 1, 0], [-7, -3, 0]]\n"
     ]
    }
   ],
   "source": [
    "a = [[2,3,4],[2,5,7]]\n",
    "b = [[5,2,4],[9,8,7]]\n",
    "add_result = [[0,0,0],[0,0,0]]\n",
    "sub_result = [[0,0,0],[0,0,0]]\n",
    "for i in range(len(a)):\n",
    "    for j in range(len(a[0])) :\n",
    "        add_result[i][j] = a[i][j] + b[i][j]\n",
    "        sub_result[i][j] = a[i][j] - b[i][j]\n",
    "print('matrix addition',add_result)\n",
    "print('matrix subtaction',sub_result)\n"
   ]
  },
  {
   "cell_type": "markdown",
   "id": "5130f057-feed-402d-b300-fe8a1a74b2bb",
   "metadata": {},
   "source": [
    "### Ques_33. Write a program that calculates the greatest common divisor (GCD) of two numbers using the Euclidean algorithm."
   ]
  },
  {
   "cell_type": "code",
   "execution_count": 14,
   "id": "ae3e9fe0-4219-47e9-85b3-dd83ebc9517b",
   "metadata": {},
   "outputs": [
    {
     "name": "stdout",
     "output_type": "stream",
     "text": [
      "the greatest common dicisor is :- 6\n"
     ]
    }
   ],
   "source": [
    "a = 54\n",
    "b = 24\n",
    "while b :\n",
    "    a , b = b , (a % b)\n",
    "print('the greatest common dicisor is :-',a)"
   ]
  },
  {
   "cell_type": "markdown",
   "id": "3b577845-4db1-49be-8617-2d6f721ed9e5",
   "metadata": {},
   "source": [
    "### Ques_34. Build a program that performs matrix multiplication using nested loops and conditional statements."
   ]
  },
  {
   "cell_type": "code",
   "execution_count": 15,
   "id": "fdd71c54-7cb8-472d-86bb-c1f6f018df20",
   "metadata": {},
   "outputs": [
    {
     "name": "stdout",
     "output_type": "stream",
     "text": [
      "[[10, 6, 16], [18, 40, 49]]\n"
     ]
    }
   ],
   "source": [
    "a = [[2,3,4],[2,5,7]]\n",
    "b = [[5,2,4],[9,8,7]]\n",
    "add_result = [[0,0,0],[0,0,0]]\n",
    "for i in range(len(a)):\n",
    "    for j in range(len(a[0])) :\n",
    "        add_result[i][j] = a[i][j] * b[i][j]\n",
    "print(add_result)"
   ]
  },
  {
   "cell_type": "markdown",
   "id": "439a8938-8e4f-4cd7-a9c6-9524e432fd67",
   "metadata": {},
   "source": [
    "### Ques_35. Create a program that simulates a basic text-based tic-tac-toe game against the computer."
   ]
  },
  {
   "cell_type": "code",
   "execution_count": 8,
   "id": "3491d583-8a8b-4772-9f21-d63703672d32",
   "metadata": {},
   "outputs": [
    {
     "name": "stdout",
     "output_type": "stream",
     "text": [
      "- | - | -\n",
      "- | - | -\n",
      "- | - | -\n",
      "X's turn.\n"
     ]
    },
    {
     "name": "stdin",
     "output_type": "stream",
     "text": [
      "Choose a position from 1-9:  x\n",
      "Invalid input. Choose a position from 1-9:  5\n"
     ]
    },
    {
     "name": "stdout",
     "output_type": "stream",
     "text": [
      "- | - | -\n",
      "- | X | -\n",
      "- | - | -\n",
      "O's turn.\n"
     ]
    },
    {
     "name": "stdin",
     "output_type": "stream",
     "text": [
      "Choose a position from 1-9:  3\n"
     ]
    },
    {
     "name": "stdout",
     "output_type": "stream",
     "text": [
      "- | - | O\n",
      "- | X | -\n",
      "- | - | -\n",
      "X's turn.\n"
     ]
    },
    {
     "name": "stdin",
     "output_type": "stream",
     "text": [
      "Choose a position from 1-9:  7\n"
     ]
    },
    {
     "name": "stdout",
     "output_type": "stream",
     "text": [
      "- | - | O\n",
      "- | X | -\n",
      "X | - | -\n",
      "O's turn.\n"
     ]
    },
    {
     "name": "stdin",
     "output_type": "stream",
     "text": [
      "Choose a position from 1-9:  1\n"
     ]
    },
    {
     "name": "stdout",
     "output_type": "stream",
     "text": [
      "O | - | O\n",
      "- | X | -\n",
      "X | - | -\n",
      "X's turn.\n"
     ]
    },
    {
     "name": "stdin",
     "output_type": "stream",
     "text": [
      "Choose a position from 1-9:  2\n"
     ]
    },
    {
     "name": "stdout",
     "output_type": "stream",
     "text": [
      "O | X | O\n",
      "- | X | -\n",
      "X | - | -\n",
      "O's turn.\n"
     ]
    },
    {
     "name": "stdin",
     "output_type": "stream",
     "text": [
      "Choose a position from 1-9:  8\n"
     ]
    },
    {
     "name": "stdout",
     "output_type": "stream",
     "text": [
      "O | X | O\n",
      "- | X | -\n",
      "X | O | -\n",
      "X's turn.\n"
     ]
    },
    {
     "name": "stdin",
     "output_type": "stream",
     "text": [
      "Choose a position from 1-9:  4\n"
     ]
    },
    {
     "name": "stdout",
     "output_type": "stream",
     "text": [
      "O | X | O\n",
      "X | X | -\n",
      "X | O | -\n",
      "O's turn.\n"
     ]
    },
    {
     "name": "stdin",
     "output_type": "stream",
     "text": [
      "Choose a position from 1-9:  6\n"
     ]
    },
    {
     "name": "stdout",
     "output_type": "stream",
     "text": [
      "O | X | O\n",
      "X | X | O\n",
      "X | O | -\n",
      "X's turn.\n"
     ]
    },
    {
     "name": "stdin",
     "output_type": "stream",
     "text": [
      "Choose a position from 1-9:  9\n"
     ]
    },
    {
     "name": "stdout",
     "output_type": "stream",
     "text": [
      "O | X | O\n",
      "X | X | O\n",
      "X | O | X\n",
      "It's a tie!\n"
     ]
    }
   ],
   "source": [
    "board = [\"-\", \"-\", \"-\",\n",
    "         \"-\", \"-\", \"-\",\n",
    "         \"-\", \"-\", \"-\"]\n",
    " \n",
    "# Define a function to print the game board\n",
    "def print_board():\n",
    "    print(board[0] + \" | \" + board[1] + \" | \" + board[2])\n",
    "    print(board[3] + \" | \" + board[4] + \" | \" + board[5])\n",
    "    print(board[6] + \" | \" + board[7] + \" | \" + board[8])\n",
    " \n",
    "# Define a function to handle a player's turn\n",
    "def take_turn(player):\n",
    "    print(player + \"'s turn.\")\n",
    "    position = input(\"Choose a position from 1-9: \")\n",
    "    while position not in [\"1\", \"2\", \"3\", \"4\", \"5\", \"6\", \"7\", \"8\", \"9\"]:\n",
    "        position = input(\"Invalid input. Choose a position from 1-9: \")\n",
    "    position = int(position) - 1\n",
    "    while board[position] != \"-\":\n",
    "        position = int(input(\"Position already taken. Choose a different position: \")) - 1\n",
    "    board[position] = player\n",
    "    print_board()\n",
    " \n",
    "# Define a function to check if the game is over\n",
    "def check_game_over():\n",
    "    # Check for a win\n",
    "    if (board[0] == board[1] == board[2] != \"-\") or \\\n",
    "       (board[3] == board[4] == board[5] != \"-\") or \\\n",
    "       (board[6] == board[7] == board[8] != \"-\") or \\\n",
    "       (board[0] == board[3] == board[6] != \"-\") or \\\n",
    "       (board[1] == board[4] == board[7] != \"-\") or \\\n",
    "       (board[2] == board[5] == board[8] != \"-\") or \\\n",
    "       (board[0] == board[4] == board[8] != \"-\") or \\\n",
    "       (board[2] == board[4] == board[6] != \"-\"):\n",
    "        return \"win\"\n",
    "    # Check for a tie\n",
    "    elif \"-\" not in board:\n",
    "        return \"tie\"\n",
    "    # Game is not over\n",
    "    else:\n",
    "        return \"play\"\n",
    " \n",
    "# Define the main game loop\n",
    "def play_game():\n",
    "    print_board()\n",
    "    current_player = \"X\"\n",
    "    game_over = False\n",
    "    while not game_over:\n",
    "        take_turn(current_player)\n",
    "        game_result = check_game_over()\n",
    "        if game_result == \"win\":\n",
    "            print(current_player + \" wins!\")\n",
    "            game_over = True\n",
    "        elif game_result == \"tie\":\n",
    "            print(\"It's a tie!\")\n",
    "            game_over = True\n",
    "        else:\n",
    "            # Switch to the other player\n",
    "            current_player = \"O\" if current_player == \"X\" else \"X\"\n",
    " \n",
    "# Start the game\n",
    "play_game()"
   ]
  },
  {
   "cell_type": "markdown",
   "id": "4827e71a-c89f-45ea-8dd2-b66d682a3e09",
   "metadata": {},
   "source": [
    "### Ques_36. Write a program that generates Fibonacci numbers up to a specified term using iterative methods."
   ]
  },
  {
   "cell_type": "code",
   "execution_count": 7,
   "id": "76d5ff23-6573-4d74-ad6e-188af3d36396",
   "metadata": {},
   "outputs": [
    {
     "name": "stdin",
     "output_type": "stream",
     "text": [
      "enter the number 10\n"
     ]
    },
    {
     "name": "stdout",
     "output_type": "stream",
     "text": [
      "0\n",
      "1\n",
      "1\n",
      "2\n",
      "3\n",
      "5\n",
      "8\n",
      "13\n",
      "21\n",
      "34\n"
     ]
    }
   ],
   "source": [
    "num = int(input('enter the number'))\n",
    "a = 0 \n",
    "b = 1\n",
    "for i in range(0,num):\n",
    "    print(a)\n",
    "    c = a + b\n",
    "    a = b \n",
    "    b = c"
   ]
  },
  {
   "cell_type": "markdown",
   "id": "c6c633e5-1ddb-4658-b391-8461713469eb",
   "metadata": {},
   "source": [
    "### Ques_37. Develop a program that calculates the nth term of the Fibonacci sequence using memoization."
   ]
  },
  {
   "cell_type": "code",
   "execution_count": 19,
   "id": "8a230a34-56cf-44a7-af88-0429b9e5ec4e",
   "metadata": {},
   "outputs": [
    {
     "name": "stdout",
     "output_type": "stream",
     "text": [
      "9 th Fibonacci Number: \n",
      "34\n"
     ]
    }
   ],
   "source": [
    "def fibonacci(n):\n",
    "    if n <= 1:\n",
    "        return n\n",
    "    return fibonacci(n-1) + fibonacci(n-2)\n",
    " \n",
    " \n",
    "if __name__ == \"__main__\":\n",
    "    n = 9\n",
    "    print(n, \"th Fibonacci Number: \")\n",
    "    print(fibonacci(n))\n",
    " "
   ]
  },
  {
   "cell_type": "markdown",
   "id": "e1c8db75-b01f-4e11-a308-83318d7ba87a",
   "metadata": {},
   "source": [
    "### Ques_38. Create a program that generates a calendar for a given month and year using conditional statements."
   ]
  },
  {
   "cell_type": "code",
   "execution_count": 20,
   "id": "86d373ff-cf73-48b9-8c66-c7c77e8170de",
   "metadata": {},
   "outputs": [
    {
     "name": "stdin",
     "output_type": "stream",
     "text": [
      "enter the year 2024\n"
     ]
    },
    {
     "name": "stdout",
     "output_type": "stream",
     "text": [
      "                                  2024\n",
      "\n",
      "      January                   February                   March\n",
      "Mo Tu We Th Fr Sa Su      Mo Tu We Th Fr Sa Su      Mo Tu We Th Fr Sa Su\n",
      " 1  2  3  4  5  6  7                1  2  3  4                   1  2  3\n",
      " 8  9 10 11 12 13 14       5  6  7  8  9 10 11       4  5  6  7  8  9 10\n",
      "15 16 17 18 19 20 21      12 13 14 15 16 17 18      11 12 13 14 15 16 17\n",
      "22 23 24 25 26 27 28      19 20 21 22 23 24 25      18 19 20 21 22 23 24\n",
      "29 30 31                  26 27 28 29               25 26 27 28 29 30 31\n",
      "\n",
      "       April                      May                       June\n",
      "Mo Tu We Th Fr Sa Su      Mo Tu We Th Fr Sa Su      Mo Tu We Th Fr Sa Su\n",
      " 1  2  3  4  5  6  7             1  2  3  4  5                      1  2\n",
      " 8  9 10 11 12 13 14       6  7  8  9 10 11 12       3  4  5  6  7  8  9\n",
      "15 16 17 18 19 20 21      13 14 15 16 17 18 19      10 11 12 13 14 15 16\n",
      "22 23 24 25 26 27 28      20 21 22 23 24 25 26      17 18 19 20 21 22 23\n",
      "29 30                     27 28 29 30 31            24 25 26 27 28 29 30\n",
      "\n",
      "        July                     August                  September\n",
      "Mo Tu We Th Fr Sa Su      Mo Tu We Th Fr Sa Su      Mo Tu We Th Fr Sa Su\n",
      " 1  2  3  4  5  6  7                1  2  3  4                         1\n",
      " 8  9 10 11 12 13 14       5  6  7  8  9 10 11       2  3  4  5  6  7  8\n",
      "15 16 17 18 19 20 21      12 13 14 15 16 17 18       9 10 11 12 13 14 15\n",
      "22 23 24 25 26 27 28      19 20 21 22 23 24 25      16 17 18 19 20 21 22\n",
      "29 30 31                  26 27 28 29 30 31         23 24 25 26 27 28 29\n",
      "                                                    30\n",
      "\n",
      "      October                   November                  December\n",
      "Mo Tu We Th Fr Sa Su      Mo Tu We Th Fr Sa Su      Mo Tu We Th Fr Sa Su\n",
      "    1  2  3  4  5  6                   1  2  3                         1\n",
      " 7  8  9 10 11 12 13       4  5  6  7  8  9 10       2  3  4  5  6  7  8\n",
      "14 15 16 17 18 19 20      11 12 13 14 15 16 17       9 10 11 12 13 14 15\n",
      "21 22 23 24 25 26 27      18 19 20 21 22 23 24      16 17 18 19 20 21 22\n",
      "28 29 30 31               25 26 27 28 29 30         23 24 25 26 27 28 29\n",
      "                                                    30 31\n",
      "\n"
     ]
    }
   ],
   "source": [
    "import calendar\n",
    "yy = int(input('enter the year'))\n",
    "print(calendar.calendar(yy))"
   ]
  },
  {
   "cell_type": "markdown",
   "id": "2f333cad-07c7-4d51-92b4-1d7ed3878679",
   "metadata": {},
   "source": [
    "### Ques_39. Build a program that simulates a basic text-based blackjack game against the computer."
   ]
  },
  {
   "cell_type": "code",
   "execution_count": 7,
   "id": "f40526d8-c42d-428b-bf3b-e7d1ac1377f6",
   "metadata": {},
   "outputs": [
    {
     "name": "stdout",
     "output_type": "stream",
     "text": [
      "Cards Player Has: [('Ace', 'Diamonds'), ('10', 'Spades')]\n",
      "Score Of The Player: 21\n",
      "\n",
      "\n"
     ]
    },
    {
     "name": "stdin",
     "output_type": "stream",
     "text": [
      "What do you want? [\"play\" to request another card, \"stop\" to stop]:  a\n"
     ]
    },
    {
     "name": "stdout",
     "output_type": "stream",
     "text": [
      "Invalid choice. Please try again.\n",
      "Cards Player Has: [('Ace', 'Diamonds'), ('10', 'Spades')]\n",
      "Score Of The Player: 21\n",
      "\n",
      "\n"
     ]
    },
    {
     "name": "stdin",
     "output_type": "stream",
     "text": [
      "What do you want? [\"play\" to request another card, \"stop\" to stop]:  stop\n"
     ]
    },
    {
     "name": "stdout",
     "output_type": "stream",
     "text": [
      "Cards Dealer Has: [('Jack', 'Clubs'), ('2', 'Hearts'), ('Queen', 'Hearts')]\n",
      "Score Of The Dealer: 22\n",
      "\n",
      "\n",
      "Cards Dealer Has: [('Jack', 'Clubs'), ('2', 'Hearts'), ('Queen', 'Hearts')]\n",
      "Score Of The Dealer: 22\n",
      "Cards Player Has: [('Ace', 'Diamonds'), ('10', 'Spades')]\n",
      "Score Of The Player: 21\n",
      "Player wins (Dealer Loss Because Dealer Score is exceeding 21)\n"
     ]
    }
   ],
   "source": [
    "import random \n",
    "\n",
    "card_categories = ['Hearts', 'Diamonds', 'Clubs', 'Spades'] \n",
    "cards_list = ['Ace', '2', '3', '4', '5', '6', '7', '8', '9', '10', 'Jack', 'Queen', 'King'] \n",
    "deck = [(card, category) for category in card_categories for card in cards_list] \n",
    "\n",
    "def card_value(card): \n",
    "\tif card[0] in ['Jack', 'Queen', 'King']: \n",
    "\t\treturn 10\n",
    "\telif card[0] == 'Ace': \n",
    "\t\treturn 11\n",
    "\telse: \n",
    "\t\treturn int(card[0]) \n",
    "\n",
    "random.shuffle(deck) \n",
    "player_card = [deck.pop(), deck.pop()] \n",
    "dealer_card = [deck.pop(), deck.pop()] \n",
    "\n",
    "while True: \n",
    "\tplayer_score = sum(card_value(card) for card in player_card) \n",
    "\tdealer_score = sum(card_value(card) for card in dealer_card) \n",
    "\tprint(\"Cards Player Has:\", player_card) \n",
    "\tprint(\"Score Of The Player:\", player_score) \n",
    "\tprint(\"\\n\") \n",
    "\tchoice = input('What do you want? [\"play\" to request another card, \"stop\" to stop]: ').lower() \n",
    "\tif choice == \"play\": \n",
    "\t\tnew_card = deck.pop() \n",
    "\t\tplayer_card.append(new_card) \n",
    "\telif choice == \"stop\": \n",
    "\t\tbreak\n",
    "\telse: \n",
    "\t\tprint(\"Invalid choice. Please try again.\") \n",
    "\t\tcontinue\n",
    "\n",
    "\tif player_score > 21: \n",
    "\t\tprint(\"Cards Dealer Has:\", dealer_card) \n",
    "\t\tprint(\"Score Of The Dealer:\", dealer_score) \n",
    "\t\tprint(\"Cards Player Has:\", player_card) \n",
    "\t\tprint(\"Score Of The Player:\", player_score) \n",
    "\t\tprint(\"Dealer wins (Player Loss Because Player Score is exceeding 21)\") \n",
    "\t\tbreak\n",
    "\n",
    "while dealer_score < 17: \n",
    "\tnew_card = deck.pop() \n",
    "\tdealer_card.append(new_card) \n",
    "\tdealer_score += card_value(new_card) \n",
    "\n",
    "print(\"Cards Dealer Has:\", dealer_card) \n",
    "print(\"Score Of The Dealer:\", dealer_score) \n",
    "print(\"\\n\") \n",
    "\n",
    "if dealer_score > 21: \n",
    "\tprint(\"Cards Dealer Has:\", dealer_card) \n",
    "\tprint(\"Score Of The Dealer:\", dealer_score) \n",
    "\tprint(\"Cards Player Has:\", player_card) \n",
    "\tprint(\"Score Of The Player:\", player_score) \n",
    "\tprint(\"Player wins (Dealer Loss Because Dealer Score is exceeding 21)\") \n",
    "elif player_score > dealer_score: \n",
    "\tprint(\"Cards Dealer Has:\", dealer_card) \n",
    "\tprint(\"Score Of The Dealer:\", dealer_score) \n",
    "\tprint(\"Cards Player Has:\", player_card) \n",
    "\tprint(\"Score Of The Player:\", player_score) \n",
    "\tprint(\"Player wins (Player Has High Score than Dealer)\") \n",
    "elif dealer_score > player_score: \n",
    "\tprint(\"Cards Dealer Has:\", dealer_card) \n",
    "\tprint(\"Score Of The Dealer:\", dealer_score) \n",
    "\tprint(\"Cards Player Has:\", player_card) \n",
    "\tprint(\"Score Of The Player:\", player_score) \n",
    "\tprint(\"Dealer wins (Dealer Has High Score than Player)\") \n",
    "else: \n",
    "\tprint(\"Cards Dealer Has:\", dealer_card) \n",
    "\tprint(\"Score Of The Dealer:\", dealer_score) \n",
    "\tprint(\"Cards Player Has:\", player_card) \n",
    "\tprint(\"Score Of The Player:\", player_score) \n",
    "\tprint(\"It's a tie.\")\n"
   ]
  },
  {
   "cell_type": "markdown",
   "id": "aad51d6e-bcae-4914-ac0a-edd4370b5d72",
   "metadata": {},
   "source": [
    "### Ques_40. Write a program that generates the prime factors of a given number using trial division."
   ]
  },
  {
   "cell_type": "code",
   "execution_count": 3,
   "id": "936dfe35-fb17-40e8-b9b0-b9be083aa482",
   "metadata": {},
   "outputs": [
    {
     "name": "stdin",
     "output_type": "stream",
     "text": [
      "enter your number 45623\n"
     ]
    },
    {
     "name": "stdout",
     "output_type": "stream",
     "text": [
      "largest prime number is :- 1061\n"
     ]
    }
   ],
   "source": [
    "def largest_prime_factor(n):  \n",
    "    i = 2  \n",
    "    while i * i <= n:  \n",
    "        if n % i:  \n",
    "            i += 1  \n",
    "        else:  \n",
    "            n //= i  \n",
    "    return n  \n",
    "num = int(input('enter your number'))\n",
    "print('largest prime number is :-',largest_prime_factor(num))  "
   ]
  }
 ],
 "metadata": {
  "kernelspec": {
   "display_name": "Python 3 (ipykernel)",
   "language": "python",
   "name": "python3"
  },
  "language_info": {
   "codemirror_mode": {
    "name": "ipython",
    "version": 3
   },
   "file_extension": ".py",
   "mimetype": "text/x-python",
   "name": "python",
   "nbconvert_exporter": "python",
   "pygments_lexer": "ipython3",
   "version": "3.10.8"
  }
 },
 "nbformat": 4,
 "nbformat_minor": 5
}
